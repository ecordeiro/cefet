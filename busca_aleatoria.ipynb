{
  "nbformat": 4,
  "nbformat_minor": 0,
  "metadata": {
    "colab": {
      "provenance": [],
      "authorship_tag": "ABX9TyPLVr3gnFO6DQ8LgjVGf4Bx",
      "include_colab_link": true
    },
    "kernelspec": {
      "name": "python3",
      "display_name": "Python 3"
    },
    "language_info": {
      "name": "python"
    }
  },
  "cells": [
    {
      "cell_type": "markdown",
      "metadata": {
        "id": "view-in-github",
        "colab_type": "text"
      },
      "source": [
        "<a href=\"https://colab.research.google.com/github/ecordeiro/cefet/blob/main/busca_aleatoria.ipynb\" target=\"_parent\"><img src=\"https://colab.research.google.com/assets/colab-badge.svg\" alt=\"Open In Colab\"/></a>"
      ]
    },
    {
      "cell_type": "code",
      "source": [
        "import numpy as np\n",
        "import random"
      ],
      "metadata": {
        "id": "abs29OLy_Sor"
      },
      "execution_count": 160,
      "outputs": []
    },
    {
      "cell_type": "code",
      "execution_count": 161,
      "metadata": {
        "id": "9hqAd1pAj6zC"
      },
      "outputs": [],
      "source": [
        "class Individual:\n",
        "    def __init__(self, chromosome_length, limites):\n",
        "        # Inicializa um indivíduo com um cromossomo aleatório\n",
        "        self.fitness = None\n",
        "        self.dominated_solutions = []  # Soluções dominadas por este indivíduo\n",
        "        self.domination_count = 0  # Contagem de quantos indivíduos dominam este indivíduo\n",
        "        self.limite_inferior, self.limite_superior = limites\n",
        "        self.chromosome = [random.uniform(self.limite_inferior,self.limite_superior) for _ in range(chromosome_length)]\n",
        "        self.crowding_distance = 0\n",
        "\n",
        "def f1(ind):\n",
        "    n = len(ind.chromosome)\n",
        "    valor = sum([(elemento**2 - 4) - 10 * np.cos(2 * np.pi * (elemento**2 - 4)) for elemento in ind.chromosome])\n",
        "    return 10 * n + valor\n",
        "\n",
        "def f2(ind):\n",
        "    n = len(ind.chromosome)\n",
        "    valor = sum([(elemento**2 - 10 * np.cos(2 * np.pi * elemento)) for elemento in ind.chromosome])\n",
        "    return 10 * n + valor\n",
        "\n",
        "def dominancia(fitness1, fitness2):\n",
        "    # Verifica se fitness1 domina fitness2\n",
        "    return all(fitness1[i] <= fitness2[i] for i in range(len(fitness1))) and any(fitness1[i] < fitness2[i] for i in range(len(fitness1)))\n",
        "\n",
        "def calcula_domininancia_populacao(p):\n",
        "    # Zera as listas de soluções dominadas e contagens de dominação\n",
        "    for ind in p:\n",
        "        ind.dominated_solutions = []\n",
        "\n",
        "    # Calcula as soluções dominadas e atualiza a contagem de dominação para cada indivíduo\n",
        "    for i in range(len(p)):\n",
        "        for j in range(i + 1, len(p)):\n",
        "            if dominancia(p[i].fitness, p[j].fitness):\n",
        "                p[j].dominated_solutions.append(i)\n",
        "                p[i].domination_count += 1\n",
        "            elif dominancia(p[j].fitness, p[i].fitness):\n",
        "                p[i].dominated_solutions.append(j)\n",
        "                p[j].domination_count += 1\n",
        "    return p\n",
        "\n",
        "def calcula_crowding_distance(p):\n",
        "    # Calcula a distância de multidão de cada indivíduo\n",
        "    for ind in p:\n",
        "        ind.crowding_distance = 0\n",
        "\n",
        "    num_objectives = len(p[0].fitness)\n",
        "    # Calcula a distância de multidão para cada objetivo\n",
        "    for m in range(num_objectives):\n",
        "        p.sort(key=lambda x: x.fitness[m])\n",
        "        p[0].crowding_distance = float('inf')\n",
        "        p[-1].crowding_distance = float('inf')\n",
        "        for i in range(1, len(p) - 1):\n",
        "            p[i].crowding_distance += (p[i + 1].fitness[m] - p[i - 1].fitness[m])\n",
        "    return p\n",
        "\n",
        "def gerar_populacao(population_size,chromosome_length,limites):\n",
        "    # population_size = 50\n",
        "    # chromosome_length = 2\n",
        "    # limites = (-5.12, 5.12)\n",
        "    populacao = [Individual(chromosome_length, limites) for _ in range(population_size)]\n",
        "\n",
        "    for p in populacao:\n",
        "        p.fitness = [f1(p),f2(p)]\n",
        "\n",
        "    return populacao\n"
      ]
    },
    {
      "cell_type": "code",
      "source": [
        "qtd_individuos = 200\n",
        "tamanho_cromossomos = 2\n",
        "limites = (-5.12, 5.12)\n",
        "\n",
        "populacao = gerar_populacao(qtd_individuos,tamanho_cromossomos,limites)"
      ],
      "metadata": {
        "id": "9WwlPDwDlY_c"
      },
      "execution_count": 162,
      "outputs": []
    },
    {
      "cell_type": "code",
      "source": [
        "num_generations = 12\n",
        "qtd_individuos = 50\n",
        "tamanho_cromossomos = 2\n",
        "limites = (-5.12, 5.12)\n",
        "\n",
        "for _ in range(num_generations):\n",
        "    #Cria nova população\n",
        "    nova_geracao = gerar_populacao(qtd_individuos,tamanho_cromossomos,limites)\n",
        "    pop_total = populacao+nova_geracao\n",
        "    populacao_total = calcula_domininancia_populacao(pop_total)\n",
        "    populacao_total = calcula_crowding_distance(pop_total)\n",
        "    populacao_total.sort(key=lambda x: (x.domination_count, -x.crowding_distance))\n",
        "    populacao = populacao_total[:len(populacao) // 2]  # Seleciona os melhores indivíduos\n",
        "\n",
        "\n",
        "non_dominated_solutions = [ind for ind in populacao if ind.domination_count == 0]\n",
        "print(\"Número de soluções não dominadas:\", len(non_dominated_solutions))"
      ],
      "metadata": {
        "colab": {
          "base_uri": "https://localhost:8080/"
        },
        "id": "TborFxIFlY84",
        "outputId": "729111c1-eab7-4c90-a43c-88ec03424459"
      },
      "execution_count": 177,
      "outputs": [
        {
          "output_type": "stream",
          "name": "stdout",
          "text": [
            "Número de soluções não dominadas: 0\n"
          ]
        }
      ]
    },
    {
      "cell_type": "code",
      "source": [
        "import altair as alt\n",
        "import pandas as pd\n",
        "\n",
        "points = [ind.fitness for ind in populacao if ind.domination_count == 0]\n",
        "\n",
        "# Create lists named x and y and populate them with the first and second values respectively from each sub-list in points\n",
        "x = [point[0] for point in points]\n",
        "y = [point[1] for point in points]\n",
        "\n",
        "# Create a DataFrame from x and y\n",
        "source = pd.DataFrame({'x': x, 'y': y})\n",
        "\n",
        "# Create a scatter plot using x and y lists\n",
        "scatter = alt.Chart(source).mark_circle().encode(\n",
        "    x=alt.X('x', axis=alt.Axis(title='X')),\n",
        "    y=alt.Y('y', axis=alt.Axis(title='Y')),\n",
        "    tooltip = ['x','y']\n",
        ").interactive()\n",
        "\n",
        "# Create a line plot to connect the points\n",
        "line = alt.Chart(source).mark_line().encode(\n",
        "    x='x',\n",
        "    y='y'\n",
        ")\n",
        "\n",
        "# Combine the scatter plot and line plot\n",
        "chart = scatter + line\n",
        "\n",
        "# Display the plot with the x-axis label as 'X' and the y-axis label as 'Y'\n",
        "chart = chart.properties(title='Scatter Plot with Connected Points')\n",
        "#chart.save('scatter_plot_with_connected_points.json')\n",
        "chart.display()\n"
      ],
      "metadata": {
        "colab": {
          "base_uri": "https://localhost:8080/",
          "height": 385
        },
        "id": "GCic_SfTSdyC",
        "outputId": "0b25bbaa-b8e3-4ede-daeb-0ce1517ed4ba"
      },
      "execution_count": 174,
      "outputs": [
        {
          "output_type": "display_data",
          "data": {
            "text/html": [
              "\n",
              "<div id=\"altair-viz-b10135cf814e42b9932a823baf3905c2\"></div>\n",
              "<script type=\"text/javascript\">\n",
              "  var VEGA_DEBUG = (typeof VEGA_DEBUG == \"undefined\") ? {} : VEGA_DEBUG;\n",
              "  (function(spec, embedOpt){\n",
              "    let outputDiv = document.currentScript.previousElementSibling;\n",
              "    if (outputDiv.id !== \"altair-viz-b10135cf814e42b9932a823baf3905c2\") {\n",
              "      outputDiv = document.getElementById(\"altair-viz-b10135cf814e42b9932a823baf3905c2\");\n",
              "    }\n",
              "    const paths = {\n",
              "      \"vega\": \"https://cdn.jsdelivr.net/npm//vega@5?noext\",\n",
              "      \"vega-lib\": \"https://cdn.jsdelivr.net/npm//vega-lib?noext\",\n",
              "      \"vega-lite\": \"https://cdn.jsdelivr.net/npm//vega-lite@4.17.0?noext\",\n",
              "      \"vega-embed\": \"https://cdn.jsdelivr.net/npm//vega-embed@6?noext\",\n",
              "    };\n",
              "\n",
              "    function maybeLoadScript(lib, version) {\n",
              "      var key = `${lib.replace(\"-\", \"\")}_version`;\n",
              "      return (VEGA_DEBUG[key] == version) ?\n",
              "        Promise.resolve(paths[lib]) :\n",
              "        new Promise(function(resolve, reject) {\n",
              "          var s = document.createElement('script');\n",
              "          document.getElementsByTagName(\"head\")[0].appendChild(s);\n",
              "          s.async = true;\n",
              "          s.onload = () => {\n",
              "            VEGA_DEBUG[key] = version;\n",
              "            return resolve(paths[lib]);\n",
              "          };\n",
              "          s.onerror = () => reject(`Error loading script: ${paths[lib]}`);\n",
              "          s.src = paths[lib];\n",
              "        });\n",
              "    }\n",
              "\n",
              "    function showError(err) {\n",
              "      outputDiv.innerHTML = `<div class=\"error\" style=\"color:red;\">${err}</div>`;\n",
              "      throw err;\n",
              "    }\n",
              "\n",
              "    function displayChart(vegaEmbed) {\n",
              "      vegaEmbed(outputDiv, spec, embedOpt)\n",
              "        .catch(err => showError(`Javascript Error: ${err.message}<br>This usually means there's a typo in your chart specification. See the javascript console for the full traceback.`));\n",
              "    }\n",
              "\n",
              "    if(typeof define === \"function\" && define.amd) {\n",
              "      requirejs.config({paths});\n",
              "      require([\"vega-embed\"], displayChart, err => showError(`Error loading script: ${err.message}`));\n",
              "    } else {\n",
              "      maybeLoadScript(\"vega\", \"5\")\n",
              "        .then(() => maybeLoadScript(\"vega-lite\", \"4.17.0\"))\n",
              "        .then(() => maybeLoadScript(\"vega-embed\", \"6\"))\n",
              "        .catch(showError)\n",
              "        .then(() => displayChart(vegaEmbed));\n",
              "    }\n",
              "  })({\"config\": {\"view\": {\"continuousWidth\": 400, \"continuousHeight\": 300}}, \"layer\": [{\"mark\": \"circle\", \"encoding\": {\"tooltip\": [{\"field\": \"x\", \"type\": \"quantitative\"}, {\"field\": \"y\", \"type\": \"quantitative\"}], \"x\": {\"axis\": {\"title\": \"X\"}, \"field\": \"x\", \"type\": \"quantitative\"}, \"y\": {\"axis\": {\"title\": \"Y\"}, \"field\": \"y\", \"type\": \"quantitative\"}}, \"selection\": {\"selector005\": {\"type\": \"interval\", \"bind\": \"scales\", \"encodings\": [\"x\", \"y\"]}}}, {\"mark\": \"line\", \"encoding\": {\"x\": {\"field\": \"x\", \"type\": \"quantitative\"}, \"y\": {\"field\": \"y\", \"type\": \"quantitative\"}}}], \"data\": {\"name\": \"data-1b6cb2c8f7a65387aa180086900547e5\"}, \"title\": \"Scatter Plot with Connected Points\", \"$schema\": \"https://vega.github.io/schema/vega-lite/v4.17.0.json\", \"datasets\": {\"data-1b6cb2c8f7a65387aa180086900547e5\": [{\"x\": 78.38231560797327, \"y\": 51.57857981331931}, {\"x\": 41.20945705538236, \"y\": 78.78110307871931}, {\"x\": 53.414339637471244, \"y\": 72.73368766603267}, {\"x\": 70.73237611366193, \"y\": 63.31024284994256}, {\"x\": 65.15517803230529, \"y\": 66.55246467196059}, {\"x\": 65.60344134975755, \"y\": 65.15407314081965}]}}, {\"mode\": \"vega-lite\"});\n",
              "</script>"
            ],
            "text/plain": [
              "alt.LayerChart(...)"
            ]
          },
          "metadata": {}
        }
      ]
    }
  ]
}