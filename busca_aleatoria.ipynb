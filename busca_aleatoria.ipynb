{
  "nbformat": 4,
  "nbformat_minor": 0,
  "metadata": {
    "colab": {
      "provenance": [],
      "authorship_tag": "ABX9TyPgjNNUVMSSZm/kbiATglYL",
      "include_colab_link": true
    },
    "kernelspec": {
      "name": "python3",
      "display_name": "Python 3"
    },
    "language_info": {
      "name": "python"
    }
  },
  "cells": [
    {
      "cell_type": "markdown",
      "metadata": {
        "id": "view-in-github",
        "colab_type": "text"
      },
      "source": [
        "<a href=\"https://colab.research.google.com/github/ecordeiro/cefet/blob/main/busca_aleatoria.ipynb\" target=\"_parent\"><img src=\"https://colab.research.google.com/assets/colab-badge.svg\" alt=\"Open In Colab\"/></a>"
      ]
    },
    {
      "cell_type": "code",
      "source": [
        "import numpy as np\n",
        "import random"
      ],
      "metadata": {
        "id": "abs29OLy_Sor"
      },
      "execution_count": 1,
      "outputs": []
    },
    {
      "cell_type": "code",
      "execution_count": 2,
      "metadata": {
        "id": "9hqAd1pAj6zC"
      },
      "outputs": [],
      "source": [
        "class Individual:\n",
        "    def __init__(self, chromosome_length):\n",
        "        # Inicializa um indivíduo com um cromossomo aleatório\n",
        "        self.chromosome = [random.random() for _ in range(chromosome_length)]\n",
        "        self.fitness = None\n",
        "        self.dominated_solutions = []  # Soluções dominadas por este indivíduo\n",
        "        self.domination_count = 0  # Contagem de quantos indivíduos dominam este indivíduo\n",
        "\n",
        "def gerar_populacao(num_individuos, num_variaveis, limites):\n",
        "    \"\"\"\n",
        "    Gera uma população de indivíduos com valores aleatórios para cada variável dentro dos limites especificados.\n",
        "\n",
        "    Argumentos:\n",
        "    num_individuos (int): Número de indivíduos na população.\n",
        "    num_variaveis (int): Número de variáveis para cada indivíduo.\n",
        "    limites (list): Lista de tuplas contendo os limites para cada variável. Cada tupla deve conter o limite inferior e superior.\n",
        "\n",
        "    Retorna:\n",
        "    list: Uma lista de listas, onde cada lista representa um indivíduo com valores aleatórios para cada variável.\n",
        "    \"\"\"\n",
        "    populacao = []\n",
        "    for _ in range(num_individuos):\n",
        "        individuo = []\n",
        "        for i in range(num_variaveis):\n",
        "            limite_inferior, limite_superior = limites\n",
        "            valor = np.random.uniform(limite_inferior, limite_superior)\n",
        "            individuo.append(valor)\n",
        "        populacao.append(individuo)\n",
        "    return populacao\n",
        "\n",
        "    population = [Individual(chromosome_length) for _ in range(population_size)]\n",
        "\n",
        "\n",
        "def f1(x_i):\n",
        "    n = len(x_i)\n",
        "    valor = sum([(elemento**2 - 4) - 10 * np.cos(2 * np.pi * (elemento**2 - 4)) for elemento in x_i])\n",
        "    return 10 * n + valor\n",
        "\n",
        "def f2(x_i):\n",
        "    n = len(x_i)\n",
        "    valor = sum([(elemento**2 - 10 * np.cos(2 * np.pi * elemento)) for elemento in x_i])\n",
        "    return 10 * n + valor"
      ]
    },
    {
      "cell_type": "code",
      "source": [
        "num_individuos = 200\n",
        "num_variaveis = 2\n",
        "limites = (-5.12, 5.12)\n",
        "\n",
        "populacao = gerar_populacao(num_individuos, num_variaveis, limites)"
      ],
      "metadata": {
        "id": "q5tg5Tccj_yk"
      },
      "execution_count": 3,
      "outputs": []
    },
    {
      "cell_type": "code",
      "source": [
        "# Exemplo de uso:\n",
        "num_individuos = 50\n",
        "num_variaveis = 2\n",
        "limites = (-5.12, 5.12)\n",
        "\n",
        "nova_geracao = gerar_populacao(num_individuos, num_variaveis, limites)\n",
        "\n",
        "for indice, elemento in enumerate(nova_geracao):\n",
        "    print((indice,f1(elemento),f2(elemento)))"
      ],
      "metadata": {
        "colab": {
          "base_uri": "https://localhost:8080/"
        },
        "id": "8OQij8-UlOhS",
        "outputId": "b1b820a4-11b3-43d3-b743-94735fcf2cfd"
      },
      "execution_count": 4,
      "outputs": [
        {
          "output_type": "stream",
          "name": "stdout",
          "text": [
            "(0, 10.244515605793456, 15.150528556338362)\n",
            "(1, 18.913777449987386, 45.990143968979936)\n",
            "(2, -6.722306022105421, 16.974780213900914)\n",
            "(3, 6.708605475858221, 6.396137156017289)\n",
            "(4, 40.69678198434287, 15.048499333917105)\n",
            "(5, 20.834074565495875, 35.04089280302265)\n",
            "(6, 37.52815134470698, 30.876883665963295)\n",
            "(7, 16.57147229692886, 11.112905487855937)\n",
            "(8, 39.87246924312963, 49.05246306016559)\n",
            "(9, 29.70480758678856, 19.53691344215076)\n",
            "(10, 23.916268339503294, 40.308397855779994)\n",
            "(11, 38.3212332812415, 37.768840057884915)\n",
            "(12, 18.913836361731562, 9.312970645170514)\n",
            "(13, 33.66294100819695, 23.02483454851067)\n",
            "(14, 46.81261589806735, 45.14996265901435)\n",
            "(15, 17.92743100163457, 16.25964998337885)\n",
            "(16, 31.858355683056967, 30.214999720617158)\n",
            "(17, 13.094989718869071, 33.57019446237511)\n",
            "(18, 17.82172668366057, 34.66565394925691)\n",
            "(19, 12.452537186634538, 7.615859240495183)\n",
            "(20, 22.868451885116922, 41.98824894274834)\n",
            "(21, 5.393772715151851, 20.334661507293568)\n",
            "(22, 47.68829725405652, 62.81615424163779)\n",
            "(23, 39.34742742530569, 66.0816165573367)\n",
            "(24, 35.369241251199306, 31.334209914082514)\n",
            "(25, 20.95977051897443, 33.601098643155225)\n",
            "(26, 31.521975165043635, 44.26685480938566)\n",
            "(27, 7.581380583907729, 25.283192131403062)\n",
            "(28, 19.452196181245533, 29.658157518005883)\n",
            "(29, 14.633756182604978, 22.52045258847221)\n",
            "(30, 29.834299523623176, 42.928267054408266)\n",
            "(31, 22.076719397374667, 43.31074284593008)\n",
            "(32, 45.716046564183124, 39.134449118020356)\n",
            "(33, 15.989213479232653, 50.0662155491338)\n",
            "(34, 44.46567247722668, 43.38198777411686)\n",
            "(35, 10.827258560713794, 34.02400793687652)\n",
            "(36, 24.855179137049447, 39.043929297099595)\n",
            "(37, 24.30003411201461, 28.11405290722729)\n",
            "(38, 49.41482616700563, 22.1707553877889)\n",
            "(39, 8.884650004919058, 23.302945508655803)\n",
            "(40, 37.876305648028435, 28.29051628783426)\n",
            "(41, 36.65185971498375, 36.50012238920286)\n",
            "(42, 35.9446070603083, 56.13886382288304)\n",
            "(43, 47.473423421385014, 55.016323840387585)\n",
            "(44, 35.96040706100717, 41.93134786725169)\n",
            "(45, 26.053021548618403, 15.624096641038744)\n",
            "(46, 11.351144591175617, 36.73898475386944)\n",
            "(47, 55.00266639570456, 63.49713759846917)\n",
            "(48, 38.35226379571544, 46.23763446528255)\n",
            "(49, 16.987052653200063, 38.148296476567886)\n"
          ]
        }
      ]
    },
    {
      "cell_type": "code",
      "source": [],
      "metadata": {
        "id": "rFWps3pSl7k8"
      },
      "execution_count": null,
      "outputs": []
    },
    {
      "cell_type": "code",
      "source": [
        "import random\n",
        "\n",
        "class Individual:\n",
        "    def __init__(self, chromosome_length):\n",
        "        # Inicializa um indivíduo com um cromossomo aleatório\n",
        "        self.chromosome = [random.random() for _ in range(chromosome_length)]\n",
        "        self.fitness = None\n",
        "        self.dominated_solutions = []  # Soluções dominadas por este indivíduo\n",
        "        self.domination_count = 0  # Contagem de quantos indivíduos dominam este indivíduo\n",
        "\n",
        "def crowding_distance_assignment(population):\n",
        "    # Zera as listas de soluções dominadas e contagens de dominação\n",
        "    for ind in population:\n",
        "        ind.dominated_solutions = []\n",
        "\n",
        "    # Calcula as soluções dominadas e atualiza a contagem de dominação para cada indivíduo\n",
        "    for i in range(len(population)):\n",
        "        for j in range(i + 1, len(population)):\n",
        "            if dominates(population[i].fitness, population[j].fitness):\n",
        "                population[j].dominated_solutions.append(i)\n",
        "                population[i].domination_count += 1\n",
        "            elif dominates(population[j].fitness, population[i].fitness):\n",
        "                population[i].dominated_solutions.append(j)\n",
        "                population[j].domination_count += 1\n",
        "\n",
        "    # Calcula a distância de multidão de cada indivíduo\n",
        "    for ind in population:\n",
        "        ind.crowding_distance = 0\n",
        "\n",
        "    num_objectives = len(population[0].fitness)\n",
        "    # Calcula a distância de multidão para cada objetivo\n",
        "    for m in range(num_objectives):\n",
        "        population.sort(key=lambda x: x.fitness[m])\n",
        "        population[0].crowding_distance = float('inf')\n",
        "        population[-1].crowding_distance = float('inf')\n",
        "        for i in range(1, len(population) - 1):\n",
        "            population[i].crowding_distance += (population[i + 1].fitness[m] - population[i - 1].fitness[m])\n",
        "\n",
        "def dominates(fitness1, fitness2):\n",
        "    # Verifica se fitness1 domina fitness2\n",
        "    return all(fitness1[i] <= fitness2[i] for i in range(len(fitness1))) and any(fitness1[i] < fitness2[i] for i in range(len(fitness1)))\n",
        "\n",
        "def nsga2(population, num_generations, tournament_size, crossover_rate, mutation_rate):\n",
        "    # Executa o algoritmo NSGA-II para um número fixo de gerações\n",
        "    for _ in range(num_generations):\n",
        "        offspring = []\n",
        "        # Cria a nova população de descendentes\n",
        "        while len(offspring) < len(population):\n",
        "            parent1 = tournament_selection(population, tournament_size)\n",
        "            parent2 = tournament_selection(population, tournament_size)\n",
        "            child1, child2 = crossover(parent1, parent2, crossover_rate)\n",
        "            offspring.extend(mutate(child1, mutation_rate))\n",
        "            offspring.extend(mutate(child2, mutation_rate))\n",
        "        population.extend(offspring)\n",
        "        crowding_distance_assignment(population)\n",
        "        population.sort(key=lambda x: (x.domination_count, -x.crowding_distance))\n",
        "        population = population[:len(population) // 2]  # Seleciona os melhores indivíduos\n",
        "\n",
        "def tournament_selection(population, size):\n",
        "    # Seleciona um indivíduo do torneio\n",
        "    tournament = random.sample(population, size)\n",
        "    tournament.sort(key=lambda x: (x.domination_count, -x.crowding_distance))\n",
        "    return tournament[0]\n",
        "\n",
        "def crossover(parent1, parent2, rate):\n",
        "    # Executa o crossover entre dois pais com uma determinada taxa de crossover\n",
        "    if random.random() < rate:\n",
        "        point = random.randint(1, len(parent1.chromosome) - 1)\n",
        "        child1 = Individual(len(parent1.chromosome))\n",
        "        child2 = Individual(len(parent2.chromosome))\n",
        "        child1.chromosome = parent1.chromosome[:point] + parent2.chromosome[point:]\n",
        "        child2.chromosome = parent2.chromosome[:point] + parent1.chromosome[point:]\n",
        "        return child1, child2\n",
        "    else:\n",
        "        return parent1, parent2\n",
        "\n",
        "def mutate(individual, rate):\n",
        "    # Realiza a mutação em um indivíduo com uma determinada taxa de mutação\n",
        "    mutated_individuals = []\n",
        "    for i in range(len(individual.chromosome)):\n",
        "        if random.random() < rate:\n",
        "            mutated_individual = Individual(len(individual.chromosome))\n",
        "            mutated_individual.chromosome = individual.chromosome[:]\n",
        "            mutated_individual.chromosome[i] = random.random()\n",
        "            mutated_individuals.append(mutated_individual)\n",
        "    return mutated_individuals\n",
        "\n",
        "# Exemplo de uso\n",
        "population_size = 100\n",
        "chromosome_length = 10\n",
        "num_generations = 50\n",
        "tournament_size = 5\n",
        "crossover_rate = 0.8\n",
        "mutation_rate = 0.01\n",
        "\n",
        "population = [Individual(chromosome_length) for _ in range(population_size)]\n",
        "nsga2(population, num_generations, tournament_size, crossover_rate, mutation_rate)\n",
        "\n",
        "# Após a execução do NSGA-II, você pode acessar as soluções não dominadas da população\n",
        "non_dominated_solutions = [ind for ind in population if ind.domination_count == 0]\n",
        "print(\"Número de soluções não dominadas:\", len(non_dominated_solutions))\n"
      ],
      "metadata": {
        "id": "Y43dWGsHvRYT"
      },
      "execution_count": null,
      "outputs": []
    }
  ]
}