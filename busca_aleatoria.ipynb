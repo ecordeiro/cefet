{
  "nbformat": 4,
  "nbformat_minor": 0,
  "metadata": {
    "colab": {
      "provenance": [],
      "authorship_tag": "ABX9TyNWdd5m4KifgU6vWIft5emK",
      "include_colab_link": true
    },
    "kernelspec": {
      "name": "python3",
      "display_name": "Python 3"
    },
    "language_info": {
      "name": "python"
    }
  },
  "cells": [
    {
      "cell_type": "markdown",
      "metadata": {
        "id": "view-in-github",
        "colab_type": "text"
      },
      "source": [
        "<a href=\"https://colab.research.google.com/github/ecordeiro/cefet/blob/main/busca_aleatoria.ipynb\" target=\"_parent\"><img src=\"https://colab.research.google.com/assets/colab-badge.svg\" alt=\"Open In Colab\"/></a>"
      ]
    },
    {
      "cell_type": "code",
      "source": [
        "import numpy as np\n",
        "import random"
      ],
      "metadata": {
        "id": "abs29OLy_Sor"
      },
      "execution_count": 184,
      "outputs": []
    },
    {
      "cell_type": "code",
      "execution_count": 185,
      "metadata": {
        "id": "9hqAd1pAj6zC"
      },
      "outputs": [],
      "source": [
        "class Individual:\n",
        "    def __init__(self, chromosome_length, limites):\n",
        "        # Inicializa um indivíduo com um cromossomo aleatório\n",
        "        self.fitness = None\n",
        "        self.dominated_solutions = []  # Soluções dominadas por este indivíduo\n",
        "        self.domination_count = 0  # Contagem de quantos indivíduos dominam este indivíduo\n",
        "        self.limite_inferior, self.limite_superior = limites\n",
        "        self.chromosome = [np.random.uniform(self.limite_inferior,self.limite_superior) for _ in range(chromosome_length)]\n",
        "        self.crowding_distance = 0\n",
        "\n",
        "def f1(ind):\n",
        "    n = len(ind.chromosome)\n",
        "    valor = sum([(elemento**2 - 4) - 10 * np.cos(2 * np.pi * (elemento**2 - 4)) for elemento in ind.chromosome])\n",
        "    return 10 * n + valor\n",
        "\n",
        "def f2(ind):\n",
        "    n = len(ind.chromosome)\n",
        "    valor = sum([(elemento**2 - 10 * np.cos(2 * np.pi * elemento)) for elemento in ind.chromosome])\n",
        "    return 10 * n + valor\n",
        "\n",
        "def dominancia(fitness1, fitness2):\n",
        "    # Verifica se fitness1 domina fitness2\n",
        "    return all(fitness1[i] <= fitness2[i] for i in range(len(fitness1))) and any(fitness1[i] < fitness2[i] for i in range(len(fitness1)))\n",
        "\n",
        "def calcula_domininancia_populacao(p):\n",
        "    # Zera as listas de soluções dominadas e contagens de dominação\n",
        "    for ind in p:\n",
        "        ind.dominated_solutions = []\n",
        "\n",
        "    # Calcula as soluções dominadas e atualiza a contagem de dominação para cada indivíduo\n",
        "    for i in range(len(p)):\n",
        "        for j in range(i + 1, len(p)):\n",
        "            if dominancia(p[i].fitness, p[j].fitness):\n",
        "                p[j].dominated_solutions.append(i)\n",
        "                p[i].domination_count += 1\n",
        "            elif dominancia(p[j].fitness, p[i].fitness):\n",
        "                p[i].dominated_solutions.append(j)\n",
        "                p[j].domination_count += 1\n",
        "    return p\n",
        "\n",
        "def calcula_crowding_distance(p):\n",
        "    # Calcula a distância de multidão de cada indivíduo\n",
        "    for ind in p:\n",
        "        ind.crowding_distance = 0\n",
        "\n",
        "    num_objectives = len(p[0].fitness)\n",
        "    # Calcula a distância de multidão para cada objetivo\n",
        "    for m in range(num_objectives):\n",
        "        p.sort(key=lambda x: x.fitness[m])\n",
        "        p[0].crowding_distance = float('inf')\n",
        "        p[-1].crowding_distance = float('inf')\n",
        "        for i in range(1, len(p) - 1):\n",
        "            p[i].crowding_distance += (p[i + 1].fitness[m] - p[i - 1].fitness[m])\n",
        "    return p\n",
        "\n",
        "def gerar_populacao(population_size,chromosome_length,limites):\n",
        "    # population_size = 50\n",
        "    # chromosome_length = 2\n",
        "    # limites = (-5.12, 5.12)\n",
        "    populacao = [Individual(chromosome_length, limites) for _ in range(population_size)]\n",
        "\n",
        "    for p in populacao:\n",
        "        p.fitness = [f1(p),f2(p)]\n",
        "\n",
        "    return populacao\n"
      ]
    },
    {
      "cell_type": "code",
      "source": [
        "qtd_individuos = 200\n",
        "tamanho_cromossomos = 2\n",
        "limites = (-5.12, 5.12)\n",
        "\n",
        "populacao = gerar_populacao(qtd_individuos,tamanho_cromossomos,limites)"
      ],
      "metadata": {
        "id": "9WwlPDwDlY_c"
      },
      "execution_count": 202,
      "outputs": []
    },
    {
      "cell_type": "code",
      "source": [
        "i=2\n",
        "numero_sem_solucoes_dominadas = 0\n",
        "geracoes = 2\n",
        "for i in range(2, 100):\n",
        "    num_geracoes = i\n",
        "    qtd_individuos = 50\n",
        "    tamanho_cromossomos = 2\n",
        "    limites = (-5.12, 5.12)\n",
        "\n",
        "    for _ in range(num_geracoes):\n",
        "        #Cria nova população\n",
        "        nova_geracao = gerar_populacao(qtd_individuos,tamanho_cromossomos,limites)\n",
        "        pop_total = populacao + nova_geracao\n",
        "        populacao_total = calcula_domininancia_populacao(pop_total)\n",
        "        populacao_total = calcula_crowding_distance(pop_total)\n",
        "        populacao_total.sort(key=lambda x: (x.domination_count, -x.crowding_distance))\n",
        "        populacao = populacao_total[:len(populacao)]  # Seleciona os melhores indivíduos\n",
        "\n",
        "    non_dominated_solutions = [ind for ind in populacao if ind.domination_count == 0]\n",
        "    if len(non_dominated_solutions)>numero_sem_solucoes_dominadas:\n",
        "        numero_sem_solucoes_dominadas = len(non_dominated_solutions)\n",
        "        geracoes = i\n",
        "\n",
        "    print(f\"Número de soluções não dominadas para a geracao{i}\", len(non_dominated_solutions))\n"
      ],
      "metadata": {
        "colab": {
          "base_uri": "https://localhost:8080/",
          "height": 946
        },
        "id": "RcubgPCRslUv",
        "outputId": "4431aa99-9b9e-4ae1-9110-5b8aa2debfc7"
      },
      "execution_count": 199,
      "outputs": [
        {
          "output_type": "stream",
          "name": "stdout",
          "text": [
            "Número de soluções não dominadas para a geracao2 6\n",
            "Número de soluções não dominadas para a geracao3 6\n",
            "Número de soluções não dominadas para a geracao4 6\n",
            "Número de soluções não dominadas para a geracao5 6\n",
            "Número de soluções não dominadas para a geracao6 6\n",
            "Número de soluções não dominadas para a geracao7 6\n",
            "Número de soluções não dominadas para a geracao8 7\n",
            "Número de soluções não dominadas para a geracao9 7\n",
            "Número de soluções não dominadas para a geracao10 5\n",
            "Número de soluções não dominadas para a geracao11 6\n",
            "Número de soluções não dominadas para a geracao12 6\n",
            "Número de soluções não dominadas para a geracao13 8\n",
            "Número de soluções não dominadas para a geracao14 9\n",
            "Número de soluções não dominadas para a geracao15 9\n",
            "Número de soluções não dominadas para a geracao16 7\n",
            "Número de soluções não dominadas para a geracao17 7\n",
            "Número de soluções não dominadas para a geracao18 7\n",
            "Número de soluções não dominadas para a geracao19 7\n",
            "Número de soluções não dominadas para a geracao20 9\n",
            "Número de soluções não dominadas para a geracao21 9\n",
            "Número de soluções não dominadas para a geracao22 11\n",
            "Número de soluções não dominadas para a geracao23 11\n",
            "Número de soluções não dominadas para a geracao24 11\n",
            "Número de soluções não dominadas para a geracao25 12\n",
            "Número de soluções não dominadas para a geracao26 12\n",
            "Número de soluções não dominadas para a geracao27 12\n",
            "Número de soluções não dominadas para a geracao28 13\n",
            "Número de soluções não dominadas para a geracao29 14\n",
            "Número de soluções não dominadas para a geracao30 13\n",
            "Número de soluções não dominadas para a geracao31 14\n",
            "Número de soluções não dominadas para a geracao32 15\n",
            "Número de soluções não dominadas para a geracao33 15\n",
            "Número de soluções não dominadas para a geracao34 15\n",
            "Número de soluções não dominadas para a geracao35 15\n"
          ]
        },
        {
          "output_type": "error",
          "ename": "KeyboardInterrupt",
          "evalue": "",
          "traceback": [
            "\u001b[0;31m---------------------------------------------------------------------------\u001b[0m",
            "\u001b[0;31mKeyboardInterrupt\u001b[0m                         Traceback (most recent call last)",
            "\u001b[0;32m<ipython-input-199-0762d34856b8>\u001b[0m in \u001b[0;36m<cell line: 4>\u001b[0;34m()\u001b[0m\n\u001b[1;32m     12\u001b[0m         \u001b[0mnova_geracao\u001b[0m \u001b[0;34m=\u001b[0m \u001b[0mgerar_populacao\u001b[0m\u001b[0;34m(\u001b[0m\u001b[0mqtd_individuos\u001b[0m\u001b[0;34m,\u001b[0m\u001b[0mtamanho_cromossomos\u001b[0m\u001b[0;34m,\u001b[0m\u001b[0mlimites\u001b[0m\u001b[0;34m)\u001b[0m\u001b[0;34m\u001b[0m\u001b[0;34m\u001b[0m\u001b[0m\n\u001b[1;32m     13\u001b[0m         \u001b[0mpop_total\u001b[0m \u001b[0;34m=\u001b[0m \u001b[0mpopulacao\u001b[0m \u001b[0;34m+\u001b[0m \u001b[0mnova_geracao\u001b[0m\u001b[0;34m\u001b[0m\u001b[0;34m\u001b[0m\u001b[0m\n\u001b[0;32m---> 14\u001b[0;31m         \u001b[0mpopulacao_total\u001b[0m \u001b[0;34m=\u001b[0m \u001b[0mcalcula_domininancia_populacao\u001b[0m\u001b[0;34m(\u001b[0m\u001b[0mpop_total\u001b[0m\u001b[0;34m)\u001b[0m\u001b[0;34m\u001b[0m\u001b[0;34m\u001b[0m\u001b[0m\n\u001b[0m\u001b[1;32m     15\u001b[0m         \u001b[0mpopulacao_total\u001b[0m \u001b[0;34m=\u001b[0m \u001b[0mcalcula_crowding_distance\u001b[0m\u001b[0;34m(\u001b[0m\u001b[0mpop_total\u001b[0m\u001b[0;34m)\u001b[0m\u001b[0;34m\u001b[0m\u001b[0;34m\u001b[0m\u001b[0m\n\u001b[1;32m     16\u001b[0m         \u001b[0mpopulacao_total\u001b[0m\u001b[0;34m.\u001b[0m\u001b[0msort\u001b[0m\u001b[0;34m(\u001b[0m\u001b[0mkey\u001b[0m\u001b[0;34m=\u001b[0m\u001b[0;32mlambda\u001b[0m \u001b[0mx\u001b[0m\u001b[0;34m:\u001b[0m \u001b[0;34m(\u001b[0m\u001b[0mx\u001b[0m\u001b[0;34m.\u001b[0m\u001b[0mdomination_count\u001b[0m\u001b[0;34m,\u001b[0m \u001b[0;34m-\u001b[0m\u001b[0mx\u001b[0m\u001b[0;34m.\u001b[0m\u001b[0mcrowding_distance\u001b[0m\u001b[0;34m)\u001b[0m\u001b[0;34m)\u001b[0m\u001b[0;34m\u001b[0m\u001b[0;34m\u001b[0m\u001b[0m\n",
            "\u001b[0;32m<ipython-input-185-ca73225e4303>\u001b[0m in \u001b[0;36mcalcula_domininancia_populacao\u001b[0;34m(p)\u001b[0m\n\u001b[1;32m     31\u001b[0m     \u001b[0;32mfor\u001b[0m \u001b[0mi\u001b[0m \u001b[0;32min\u001b[0m \u001b[0mrange\u001b[0m\u001b[0;34m(\u001b[0m\u001b[0mlen\u001b[0m\u001b[0;34m(\u001b[0m\u001b[0mp\u001b[0m\u001b[0;34m)\u001b[0m\u001b[0;34m)\u001b[0m\u001b[0;34m:\u001b[0m\u001b[0;34m\u001b[0m\u001b[0;34m\u001b[0m\u001b[0m\n\u001b[1;32m     32\u001b[0m         \u001b[0;32mfor\u001b[0m \u001b[0mj\u001b[0m \u001b[0;32min\u001b[0m \u001b[0mrange\u001b[0m\u001b[0;34m(\u001b[0m\u001b[0mi\u001b[0m \u001b[0;34m+\u001b[0m \u001b[0;36m1\u001b[0m\u001b[0;34m,\u001b[0m \u001b[0mlen\u001b[0m\u001b[0;34m(\u001b[0m\u001b[0mp\u001b[0m\u001b[0;34m)\u001b[0m\u001b[0;34m)\u001b[0m\u001b[0;34m:\u001b[0m\u001b[0;34m\u001b[0m\u001b[0;34m\u001b[0m\u001b[0m\n\u001b[0;32m---> 33\u001b[0;31m             \u001b[0;32mif\u001b[0m \u001b[0mdominancia\u001b[0m\u001b[0;34m(\u001b[0m\u001b[0mp\u001b[0m\u001b[0;34m[\u001b[0m\u001b[0mi\u001b[0m\u001b[0;34m]\u001b[0m\u001b[0;34m.\u001b[0m\u001b[0mfitness\u001b[0m\u001b[0;34m,\u001b[0m \u001b[0mp\u001b[0m\u001b[0;34m[\u001b[0m\u001b[0mj\u001b[0m\u001b[0;34m]\u001b[0m\u001b[0;34m.\u001b[0m\u001b[0mfitness\u001b[0m\u001b[0;34m)\u001b[0m\u001b[0;34m:\u001b[0m\u001b[0;34m\u001b[0m\u001b[0;34m\u001b[0m\u001b[0m\n\u001b[0m\u001b[1;32m     34\u001b[0m                 \u001b[0mp\u001b[0m\u001b[0;34m[\u001b[0m\u001b[0mj\u001b[0m\u001b[0;34m]\u001b[0m\u001b[0;34m.\u001b[0m\u001b[0mdominated_solutions\u001b[0m\u001b[0;34m.\u001b[0m\u001b[0mappend\u001b[0m\u001b[0;34m(\u001b[0m\u001b[0mi\u001b[0m\u001b[0;34m)\u001b[0m\u001b[0;34m\u001b[0m\u001b[0;34m\u001b[0m\u001b[0m\n\u001b[1;32m     35\u001b[0m                 \u001b[0mp\u001b[0m\u001b[0;34m[\u001b[0m\u001b[0mi\u001b[0m\u001b[0;34m]\u001b[0m\u001b[0;34m.\u001b[0m\u001b[0mdomination_count\u001b[0m \u001b[0;34m+=\u001b[0m \u001b[0;36m1\u001b[0m\u001b[0;34m\u001b[0m\u001b[0;34m\u001b[0m\u001b[0m\n",
            "\u001b[0;32m<ipython-input-185-ca73225e4303>\u001b[0m in \u001b[0;36mdominancia\u001b[0;34m(fitness1, fitness2)\u001b[0m\n\u001b[1;32m     21\u001b[0m \u001b[0;32mdef\u001b[0m \u001b[0mdominancia\u001b[0m\u001b[0;34m(\u001b[0m\u001b[0mfitness1\u001b[0m\u001b[0;34m,\u001b[0m \u001b[0mfitness2\u001b[0m\u001b[0;34m)\u001b[0m\u001b[0;34m:\u001b[0m\u001b[0;34m\u001b[0m\u001b[0;34m\u001b[0m\u001b[0m\n\u001b[1;32m     22\u001b[0m     \u001b[0;31m# Verifica se fitness1 domina fitness2\u001b[0m\u001b[0;34m\u001b[0m\u001b[0;34m\u001b[0m\u001b[0m\n\u001b[0;32m---> 23\u001b[0;31m     \u001b[0;32mreturn\u001b[0m \u001b[0mall\u001b[0m\u001b[0;34m(\u001b[0m\u001b[0mfitness1\u001b[0m\u001b[0;34m[\u001b[0m\u001b[0mi\u001b[0m\u001b[0;34m]\u001b[0m \u001b[0;34m<=\u001b[0m \u001b[0mfitness2\u001b[0m\u001b[0;34m[\u001b[0m\u001b[0mi\u001b[0m\u001b[0;34m]\u001b[0m \u001b[0;32mfor\u001b[0m \u001b[0mi\u001b[0m \u001b[0;32min\u001b[0m \u001b[0mrange\u001b[0m\u001b[0;34m(\u001b[0m\u001b[0mlen\u001b[0m\u001b[0;34m(\u001b[0m\u001b[0mfitness1\u001b[0m\u001b[0;34m)\u001b[0m\u001b[0;34m)\u001b[0m\u001b[0;34m)\u001b[0m \u001b[0;32mand\u001b[0m \u001b[0many\u001b[0m\u001b[0;34m(\u001b[0m\u001b[0mfitness1\u001b[0m\u001b[0;34m[\u001b[0m\u001b[0mi\u001b[0m\u001b[0;34m]\u001b[0m \u001b[0;34m<\u001b[0m \u001b[0mfitness2\u001b[0m\u001b[0;34m[\u001b[0m\u001b[0mi\u001b[0m\u001b[0;34m]\u001b[0m \u001b[0;32mfor\u001b[0m \u001b[0mi\u001b[0m \u001b[0;32min\u001b[0m \u001b[0mrange\u001b[0m\u001b[0;34m(\u001b[0m\u001b[0mlen\u001b[0m\u001b[0;34m(\u001b[0m\u001b[0mfitness1\u001b[0m\u001b[0;34m)\u001b[0m\u001b[0;34m)\u001b[0m\u001b[0;34m)\u001b[0m\u001b[0;34m\u001b[0m\u001b[0;34m\u001b[0m\u001b[0m\n\u001b[0m\u001b[1;32m     24\u001b[0m \u001b[0;34m\u001b[0m\u001b[0m\n\u001b[1;32m     25\u001b[0m \u001b[0;32mdef\u001b[0m \u001b[0mcalcula_domininancia_populacao\u001b[0m\u001b[0;34m(\u001b[0m\u001b[0mp\u001b[0m\u001b[0;34m)\u001b[0m\u001b[0;34m:\u001b[0m\u001b[0;34m\u001b[0m\u001b[0;34m\u001b[0m\u001b[0m\n",
            "\u001b[0;31mKeyboardInterrupt\u001b[0m: "
          ]
        }
      ]
    },
    {
      "cell_type": "code",
      "source": [
        "num_geracoes = 1000\n",
        "qtd_individuos = 50\n",
        "tamanho_cromossomos = 2\n",
        "limites = (-5.12, 5.12)\n",
        "\n",
        "for _ in range(num_geracoes):\n",
        "    #Cria nova população\n",
        "    nova_geracao = gerar_populacao(qtd_individuos,tamanho_cromossomos,limites)\n",
        "    pop_total = populacao + nova_geracao\n",
        "    populacao_total = calcula_domininancia_populacao(pop_total)\n",
        "    populacao_total = calcula_crowding_distance(pop_total)\n",
        "    populacao_total.sort(key=lambda x: (x.domination_count, -x.crowding_distance))\n",
        "    populacao = populacao_total[:len(populacao)]  # Seleciona os melhores indivíduos\n",
        "\n",
        "non_dominated_solutions = [ind for ind in populacao if ind.domination_count == 0]\n",
        "print(f\"Número de soluções não dominadas para a geracao{i}\", len(non_dominated_solutions))"
      ],
      "metadata": {
        "colab": {
          "base_uri": "https://localhost:8080/"
        },
        "id": "TborFxIFlY84",
        "outputId": "9f62f601-0f88-482c-bdf7-f043d50d5ccf"
      },
      "execution_count": 207,
      "outputs": [
        {
          "output_type": "stream",
          "name": "stdout",
          "text": [
            "Número de soluções não dominadas para a geracao36 15\n"
          ]
        }
      ]
    },
    {
      "cell_type": "code",
      "source": [
        "import altair as alt\n",
        "import pandas as pd\n",
        "\n",
        "points = [ind.fitness for ind in populacao if ind.domination_count == 0]\n",
        "\n",
        "# Create lists named x and y and populate them with the first and second values respectively from each sub-list in points\n",
        "x = [point[0] for point in points]\n",
        "y = [point[1] for point in points]\n",
        "\n",
        "# Create a DataFrame from x and y\n",
        "source = pd.DataFrame({'x': x, 'y': y})\n",
        "\n",
        "# Create a scatter plot using x and y lists\n",
        "scatter = alt.Chart(source).mark_circle().encode(\n",
        "    x=alt.X('x', axis=alt.Axis(title='X')),\n",
        "    y=alt.Y('y', axis=alt.Axis(title='Y')),\n",
        "    tooltip = ['x','y']\n",
        ").interactive()\n",
        "\n",
        "# Create a line plot to connect the points\n",
        "line = alt.Chart(source).mark_line().encode(\n",
        "    x='x',\n",
        "    y='y'\n",
        ")\n",
        "\n",
        "# Combine the scatter plot and line plot\n",
        "chart = scatter + line\n",
        "\n",
        "# Display the plot with the x-axis label as 'X' and the y-axis label as 'Y'\n",
        "chart = chart.properties(title='Scatter Plot with Connected Points')\n",
        "#chart.save('scatter_plot_with_connected_points.json')\n",
        "chart.display()\n"
      ],
      "metadata": {
        "colab": {
          "base_uri": "https://localhost:8080/",
          "height": 385
        },
        "id": "GCic_SfTSdyC",
        "outputId": "da339a2f-0ee9-43b5-aec0-0c9bbdee37f3"
      },
      "execution_count": 208,
      "outputs": [
        {
          "output_type": "display_data",
          "data": {
            "text/html": [
              "\n",
              "<div id=\"altair-viz-4d12f59901064c26b9ed6d1f90bfd99c\"></div>\n",
              "<script type=\"text/javascript\">\n",
              "  var VEGA_DEBUG = (typeof VEGA_DEBUG == \"undefined\") ? {} : VEGA_DEBUG;\n",
              "  (function(spec, embedOpt){\n",
              "    let outputDiv = document.currentScript.previousElementSibling;\n",
              "    if (outputDiv.id !== \"altair-viz-4d12f59901064c26b9ed6d1f90bfd99c\") {\n",
              "      outputDiv = document.getElementById(\"altair-viz-4d12f59901064c26b9ed6d1f90bfd99c\");\n",
              "    }\n",
              "    const paths = {\n",
              "      \"vega\": \"https://cdn.jsdelivr.net/npm//vega@5?noext\",\n",
              "      \"vega-lib\": \"https://cdn.jsdelivr.net/npm//vega-lib?noext\",\n",
              "      \"vega-lite\": \"https://cdn.jsdelivr.net/npm//vega-lite@4.17.0?noext\",\n",
              "      \"vega-embed\": \"https://cdn.jsdelivr.net/npm//vega-embed@6?noext\",\n",
              "    };\n",
              "\n",
              "    function maybeLoadScript(lib, version) {\n",
              "      var key = `${lib.replace(\"-\", \"\")}_version`;\n",
              "      return (VEGA_DEBUG[key] == version) ?\n",
              "        Promise.resolve(paths[lib]) :\n",
              "        new Promise(function(resolve, reject) {\n",
              "          var s = document.createElement('script');\n",
              "          document.getElementsByTagName(\"head\")[0].appendChild(s);\n",
              "          s.async = true;\n",
              "          s.onload = () => {\n",
              "            VEGA_DEBUG[key] = version;\n",
              "            return resolve(paths[lib]);\n",
              "          };\n",
              "          s.onerror = () => reject(`Error loading script: ${paths[lib]}`);\n",
              "          s.src = paths[lib];\n",
              "        });\n",
              "    }\n",
              "\n",
              "    function showError(err) {\n",
              "      outputDiv.innerHTML = `<div class=\"error\" style=\"color:red;\">${err}</div>`;\n",
              "      throw err;\n",
              "    }\n",
              "\n",
              "    function displayChart(vegaEmbed) {\n",
              "      vegaEmbed(outputDiv, spec, embedOpt)\n",
              "        .catch(err => showError(`Javascript Error: ${err.message}<br>This usually means there's a typo in your chart specification. See the javascript console for the full traceback.`));\n",
              "    }\n",
              "\n",
              "    if(typeof define === \"function\" && define.amd) {\n",
              "      requirejs.config({paths});\n",
              "      require([\"vega-embed\"], displayChart, err => showError(`Error loading script: ${err.message}`));\n",
              "    } else {\n",
              "      maybeLoadScript(\"vega\", \"5\")\n",
              "        .then(() => maybeLoadScript(\"vega-lite\", \"4.17.0\"))\n",
              "        .then(() => maybeLoadScript(\"vega-embed\", \"6\"))\n",
              "        .catch(showError)\n",
              "        .then(() => displayChart(vegaEmbed));\n",
              "    }\n",
              "  })({\"config\": {\"view\": {\"continuousWidth\": 400, \"continuousHeight\": 300}}, \"layer\": [{\"mark\": \"circle\", \"encoding\": {\"tooltip\": [{\"field\": \"x\", \"type\": \"quantitative\"}, {\"field\": \"y\", \"type\": \"quantitative\"}], \"x\": {\"axis\": {\"title\": \"X\"}, \"field\": \"x\", \"type\": \"quantitative\"}, \"y\": {\"axis\": {\"title\": \"Y\"}, \"field\": \"y\", \"type\": \"quantitative\"}}, \"selection\": {\"selector008\": {\"type\": \"interval\", \"bind\": \"scales\", \"encodings\": [\"x\", \"y\"]}}}, {\"mark\": \"line\", \"encoding\": {\"x\": {\"field\": \"x\", \"type\": \"quantitative\"}, \"y\": {\"field\": \"y\", \"type\": \"quantitative\"}}}], \"data\": {\"name\": \"data-9600d0844a3d87172dfdde0aeb5d124f\"}, \"title\": \"Scatter Plot with Connected Points\", \"$schema\": \"https://vega.github.io/schema/vega-lite/v4.17.0.json\", \"datasets\": {\"data-9600d0844a3d87172dfdde0aeb5d124f\": [{\"x\": 82.75755616100402, \"y\": 52.06836799643802}, {\"x\": 67.04492835036727, \"y\": 80.659104864006}, {\"x\": 79.11250112574068, \"y\": 54.239496323271666}, {\"x\": 73.94458164919739, \"y\": 73.42372828665138}, {\"x\": 72.96339928001251, \"y\": 76.56376903781961}, {\"x\": 78.51036134149228, \"y\": 64.07329185976421}, {\"x\": 74.48259885810117, \"y\": 71.17936084576738}, {\"x\": 75.7001515039765, \"y\": 70.86394016804704}, {\"x\": 73.39765445586801, \"y\": 75.80067799409095}, {\"x\": 76.91354844037633, \"y\": 64.47401601050322}, {\"x\": 76.6651788364118, \"y\": 65.61109515058004}, {\"x\": 71.18579747832945, \"y\": 77.912939863227}, {\"x\": 78.75798564783469, \"y\": 57.93720385827781}, {\"x\": 70.95700388670146, \"y\": 80.65020963038519}, {\"x\": 78.66825029015824, \"y\": 63.806103950308646}]}}, {\"mode\": \"vega-lite\"});\n",
              "</script>"
            ],
            "text/plain": [
              "alt.LayerChart(...)"
            ]
          },
          "metadata": {}
        }
      ]
    }
  ]
}