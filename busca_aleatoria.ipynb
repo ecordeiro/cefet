{
  "nbformat": 4,
  "nbformat_minor": 0,
  "metadata": {
    "colab": {
      "provenance": [],
      "authorship_tag": "ABX9TyMIETxlmvPJyaTvGEo/eYCx",
      "include_colab_link": true
    },
    "kernelspec": {
      "name": "python3",
      "display_name": "Python 3"
    },
    "language_info": {
      "name": "python"
    }
  },
  "cells": [
    {
      "cell_type": "markdown",
      "metadata": {
        "id": "view-in-github",
        "colab_type": "text"
      },
      "source": [
        "<a href=\"https://colab.research.google.com/github/ecordeiro/cefet/blob/main/busca_aleatoria.ipynb\" target=\"_parent\"><img src=\"https://colab.research.google.com/assets/colab-badge.svg\" alt=\"Open In Colab\"/></a>"
      ]
    },
    {
      "cell_type": "code",
      "source": [
        "from google.colab import drive\n",
        "drive.mount('/content/drive')"
      ],
      "metadata": {
        "colab": {
          "base_uri": "https://localhost:8080/"
        },
        "id": "gOI6JUGVw5PS",
        "outputId": "0f16f7dd-4ac0-4adc-8c60-797a1ffd2045"
      },
      "execution_count": 41,
      "outputs": [
        {
          "output_type": "stream",
          "name": "stdout",
          "text": [
            "Drive already mounted at /content/drive; to attempt to forcibly remount, call drive.mount(\"/content/drive\", force_remount=True).\n"
          ]
        }
      ]
    },
    {
      "cell_type": "code",
      "source": [
        "import numpy as np\n",
        "import random\n",
        "import altair as alt\n",
        "import pandas as pd\n",
        "import seaborn as sns\n",
        "import matplotlib.pyplot as plt\n",
        "import math\n",
        "\n",
        "import warnings\n",
        "warnings.filterwarnings('ignore')"
      ],
      "metadata": {
        "id": "abs29OLy_Sor"
      },
      "execution_count": 42,
      "outputs": []
    },
    {
      "cell_type": "code",
      "source": [
        "def plot_scatter_with_line_sea(populacao, x_title='X', y_title='Y', title='Scatter Plot with Connected Points', num_fronteira=0,name_chart=''):\n",
        "    # Extract points from population\n",
        "\n",
        "    points = [(ind.fitness[0], ind.fitness[1]) for ind in populacao if ind.domination_count == num_fronteira]\n",
        "\n",
        "    if len(points)>0:\n",
        "\n",
        "        # Unzip points into separate lists for x and y\n",
        "        x_values, y_values = zip(*points)\n",
        "\n",
        "        # Create scatter plot\n",
        "        sns.scatterplot(x=x_values, y=y_values, label=title)\n",
        "\n",
        "        # Create line plot\n",
        "        sns.lineplot(x=x_values, y=y_values, linewidth=2, label='')\n",
        "\n",
        "        # Add title and labels\n",
        "        #plt.title(title)\n",
        "        plt.xlabel(x_title)\n",
        "        plt.ylabel(y_title)\n",
        "\n",
        "        # Save the figure\n",
        "        plt.savefig(name_chart)\n",
        "        plt.close()\n",
        "\n",
        "    # Display the plot\n",
        "    #plt.show()\n",
        "\n",
        "# Example usage:\n",
        "# plot_scatter_with_line_sea(populacao)"
      ],
      "metadata": {
        "id": "l1wlgHtHm3Xj"
      },
      "execution_count": 43,
      "outputs": []
    },
    {
      "cell_type": "code",
      "source": [
        "class Individual:\n",
        "\n",
        "    def __init__(self, chromosome_length, limites):\n",
        "        # Inicializa um indivíduo com um cromossomo aleatório\n",
        "        #self.fitness = None\n",
        "        self.dominated_solutions = []  # Soluções dominadas por este indivíduo\n",
        "        self.domination_count = 0  # Contagem de quantos indivíduos dominam este indivíduo\n",
        "        self.limite_inferior, self.limite_superior = limites\n",
        "        self.chromosome = [np.random.uniform(self.limite_inferior,self.limite_superior) for _ in range(chromosome_length)]\n",
        "        self.crowding_distance = 0\n",
        "        self.fitness = [self.f1(),self.f2()]\n",
        "        self.fronteira = None\n",
        "\n",
        "    def restricao_g(self, x):\n",
        "        b = (np.sin(2 * np.pi * x) + 0.5) <= 0\n",
        "        return 1 if b else 10\n",
        "\n",
        "    def restricao_h(self, x):\n",
        "        b = (np.cos(2 * np.pi * x) + 0.5) == 0\n",
        "        return 1 if b else 10\n",
        "\n",
        "    def f1(self):\n",
        "        penalidade = 1\n",
        "        n = len(self.chromosome)\n",
        "\n",
        "        penalidade = penalidade * math.prod([self.restricao_g(x) for x in self.chromosome])\n",
        "        penalidade = penalidade * math.prod([self.restricao_h(x) for x in self.chromosome])\n",
        "\n",
        "        valor = sum([(elemento**2 - 4) - 10 * np.cos(2 * np.pi * (elemento**2 - 4)) for elemento in self.chromosome])\n",
        "        return (10 * n + valor) * penalidade\n",
        "\n",
        "    def f2(self):\n",
        "        penalidade = 1\n",
        "        n = len(self.chromosome)\n",
        "\n",
        "        penalidade = penalidade * math.prod([self.restricao_g(x) for x in self.chromosome])\n",
        "        penalidade = penalidade * math.prod([self.restricao_h(x) for x in self.chromosome])\n",
        "\n",
        "        valor = sum([(elemento**2 - 10 * np.cos(2 * np.pi * elemento)) for elemento in self.chromosome])\n",
        "\n",
        "        return (10 * n + valor) * penalidade\n"
      ],
      "metadata": {
        "id": "5BrzqXbqj5ht"
      },
      "execution_count": 44,
      "outputs": []
    },
    {
      "cell_type": "code",
      "execution_count": 45,
      "metadata": {
        "id": "9hqAd1pAj6zC"
      },
      "outputs": [],
      "source": [
        "def dominancia(fitness1, fitness2):\n",
        "    # Verifica se fitness1 domina fitness2\n",
        "    return all(fitness1[i] <= fitness2[i] for i in range(len(fitness1))) and any(fitness1[i] < fitness2[i] for i in range(len(fitness1)))\n",
        "\n",
        "def calcula_domininancia_populacao(p):\n",
        "    # Zera as listas de soluções dominadas e contagens de dominação\n",
        "    for ind in p:\n",
        "        ind.dominated_solutions = []\n",
        "\n",
        "    # Calcula as soluções dominadas e atualiza a contagem de dominação para cada indivíduo\n",
        "    for i in range(len(p)):\n",
        "        for j in range(i + 1, len(p)):\n",
        "            if dominancia(p[i].fitness, p[j].fitness):\n",
        "                p[j].dominated_solutions.append(i)\n",
        "                p[i].domination_count += 1\n",
        "            elif dominancia(p[j].fitness, p[i].fitness):\n",
        "                p[i].dominated_solutions.append(j)\n",
        "                p[j].domination_count += 1\n",
        "    return p\n",
        "\n",
        "def calcula_crowding_distance(p):\n",
        "    # Calcula a distância de multidão de cada indivíduo\n",
        "    for ind in p:\n",
        "        ind.crowding_distance = 0\n",
        "\n",
        "    num_objectives = len(p[0].fitness)\n",
        "    # Calcula a distância de multidão para cada objetivo\n",
        "    for m in range(num_objectives):\n",
        "        p.sort(key=lambda x: x.fitness[m])\n",
        "        p[0].crowding_distance = float('inf')\n",
        "        p[-1].crowding_distance = float('inf')\n",
        "        for i in range(1, len(p) - 1):\n",
        "            p[i].crowding_distance += (p[i + 1].fitness[m] - p[i - 1].fitness[m])\n",
        "    return p\n",
        "\n",
        "def gerar_populacao(population_size,chromosome_length,limites):\n",
        "    populacao = [Individual(chromosome_length, limites) for _ in range(population_size)]\n",
        "\n",
        "    return populacao\n"
      ]
    },
    {
      "cell_type": "code",
      "source": [
        "tamanho_cromossomos = 10\n",
        "\n",
        "df_full = pd.DataFrame()\n",
        "\n",
        "for i in range(0, 12):\n",
        "\n",
        "    qtd_individuos = 200\n",
        "    limites = (-5.12, 5.12)\n",
        "\n",
        "    populacao = gerar_populacao(qtd_individuos,tamanho_cromossomos,limites)\n",
        "\n",
        "    num_geracoes = 1000\n",
        "    qtd_individuos = 50\n",
        "    limites = (-5.12, 5.12)\n",
        "\n",
        "    for _ in range(num_geracoes):\n",
        "        #Cria nova população\n",
        "        nova_geracao = gerar_populacao(qtd_individuos,tamanho_cromossomos,limites)\n",
        "        pop_total = populacao + nova_geracao\n",
        "        populacao_total = calcula_domininancia_populacao(pop_total)\n",
        "        populacao_total = calcula_crowding_distance(populacao_total)\n",
        "        populacao_total.sort(key=lambda x: (x.domination_count, -x.crowding_distance))\n",
        "        populacao = populacao_total[:len(populacao)]  # Seleciona os melhores indivíduos\n",
        "\n",
        "    non_dominated_solutions = [ind for ind in populacao if ind.domination_count == 0]\n",
        "\n",
        "    points = [(ind.fitness[0], ind.fitness[1]) for ind in populacao if ind.domination_count == 0]\n",
        "\n",
        "    print(f\"Solução {i} para {num_geracoes} gerações e n={tamanho_cromossomos}.\", f\"Pontos não dominados: {len(non_dominated_solutions)}\")\n",
        "\n",
        "    if len(non_dominated_solutions) > 0:\n",
        "        df = pd.DataFrame({'Listas': f'Lista_{i}',f'Pontos': points})\n",
        "        df_full = pd.concat([df_full,df])\n",
        "        nome_chart = f'/content/drive/MyDrive/Cefet/busca_aleatoria/graficos/n{tamanho_cromossomos}/chart_n{tamanho_cromossomos}_numero_{i}.png'\n",
        "        plot_scatter_with_line_sea(populacao,title='Fronteira 0',num_fronteira=0,name_chart=nome_chart)\n",
        ""
      ],
      "metadata": {
        "id": "RcubgPCRslUv",
        "colab": {
          "base_uri": "https://localhost:8080/"
        },
        "outputId": "4da69df6-5f24-48ba-aaed-1553259fd820"
      },
      "execution_count": 46,
      "outputs": [
        {
          "output_type": "stream",
          "name": "stdout",
          "text": [
            "Solução 0 para 1000 gerações e n=10. Pontos não dominados: 6\n",
            "Solução 1 para 1000 gerações e n=10. Pontos não dominados: 2\n",
            "Solução 2 para 1000 gerações e n=10. Pontos não dominados: 5\n",
            "Solução 3 para 1000 gerações e n=10. Pontos não dominados: 2\n",
            "Solução 4 para 1000 gerações e n=10. Pontos não dominados: 6\n",
            "Solução 5 para 1000 gerações e n=10. Pontos não dominados: 4\n",
            "Solução 6 para 1000 gerações e n=10. Pontos não dominados: 3\n",
            "Solução 7 para 1000 gerações e n=10. Pontos não dominados: 4\n",
            "Solução 8 para 1000 gerações e n=10. Pontos não dominados: 3\n",
            "Solução 9 para 1000 gerações e n=10. Pontos não dominados: 2\n",
            "Solução 10 para 1000 gerações e n=10. Pontos não dominados: 6\n",
            "Solução 11 para 1000 gerações e n=10. Pontos não dominados: 5\n"
          ]
        }
      ]
    },
    {
      "cell_type": "code",
      "source": [
        "# Salvar o DataFrame em um arquivo CSV\n",
        "df_full.to_csv(f'/content/drive/MyDrive/Cefet/busca_aleatoria/listas_busca_aleatoria_n{tamanho_cromossomos}.csv', index=False)"
      ],
      "metadata": {
        "id": "Zkp0Xvfv3b_9"
      },
      "execution_count": 47,
      "outputs": []
    }
  ]
}