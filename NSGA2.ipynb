{
  "nbformat": 4,
  "nbformat_minor": 0,
  "metadata": {
    "colab": {
      "provenance": [],
      "authorship_tag": "ABX9TyN1p05CVg/PTgjAo698uYZk",
      "include_colab_link": true
    },
    "kernelspec": {
      "name": "python3",
      "display_name": "Python 3"
    },
    "language_info": {
      "name": "python"
    }
  },
  "cells": [
    {
      "cell_type": "markdown",
      "metadata": {
        "id": "view-in-github",
        "colab_type": "text"
      },
      "source": [
        "<a href=\"https://colab.research.google.com/github/ecordeiro/cefet/blob/main/NSGA2.ipynb\" target=\"_parent\"><img src=\"https://colab.research.google.com/assets/colab-badge.svg\" alt=\"Open In Colab\"/></a>"
      ]
    },
    {
      "cell_type": "code",
      "execution_count": 78,
      "metadata": {
        "id": "4FWquMJyyaF8"
      },
      "outputs": [],
      "source": [
        "import random\n",
        "import numpy as np\n",
        "import pandas as pd\n",
        "import seaborn as sns\n",
        "import matplotlib.pyplot as plt"
      ]
    },
    {
      "cell_type": "code",
      "source": [
        "def plot_scatter_with_line_sea(populacao, x_title='X', y_title='Y', title='Scatter Plot with Connected Points'):\n",
        "    # Extract points from population\n",
        "    points = [(ind.fitness[0], ind.fitness[1]) for ind in populacao if ind.domination_count == 0]\n",
        "\n",
        "    # Unzip points into separate lists for x and y\n",
        "    x_values, y_values = zip(*points)\n",
        "\n",
        "    # Create scatter plot\n",
        "    sns.scatterplot(x=x_values, y=y_values, label='Scatter Plot')\n",
        "\n",
        "    # Create line plot\n",
        "    sns.lineplot(x=x_values, y=y_values, color='red', linewidth=2, label='Connected Line')\n",
        "\n",
        "    # Add title and labels\n",
        "    plt.title(title)\n",
        "    plt.xlabel(x_title)\n",
        "    plt.ylabel(y_title)\n",
        "\n",
        "    # Display the plot\n",
        "    plt.show()\n",
        "\n",
        "# Example usage:\n",
        "# plot_scatter_with_line_sea(populacao)"
      ],
      "metadata": {
        "id": "5vHmhqaP5EyW"
      },
      "execution_count": 79,
      "outputs": []
    },
    {
      "cell_type": "code",
      "source": [
        "class Individual:\n",
        "    def __init__(self, chromosome_length, limites):\n",
        "        # Inicializa um indivíduo com um cromossomo aleatório\n",
        "        self.fitness = None\n",
        "        self.dominated_solutions = []  # Soluções dominadas por este indivíduo\n",
        "        self.domination_count = 0  # Contagem de quantos indivíduos dominam este indivíduo\n",
        "        self.limite_inferior, self.limite_superior = limites\n",
        "        self.chromosome = [np.random.uniform(self.limite_inferior,self.limite_superior) for _ in range(chromosome_length)]\n",
        "        self.crowding_distance = 0"
      ],
      "metadata": {
        "id": "bH0TyY4vyfbG"
      },
      "execution_count": 75,
      "outputs": []
    },
    {
      "cell_type": "code",
      "source": [
        "def f1(ind):\n",
        "    n = len(ind.chromosome)\n",
        "    valor = sum([(elemento**2 - 4) - 10 * np.cos(2 * np.pi * (elemento**2 - 4)) for elemento in ind.chromosome])\n",
        "    return 10 * n + valor\n",
        "\n",
        "def f2(ind):\n",
        "    n = len(ind.chromosome)\n",
        "    valor = sum([(elemento**2 - 10 * np.cos(2 * np.pi * elemento)) for elemento in ind.chromosome])\n",
        "    return 10 * n + valor\n",
        "\n",
        "def gerar_populacao(population_size,chromosome_length,limites):\n",
        "    # population_size = 50\n",
        "    # chromosome_length = 2\n",
        "    # limites = (-5.12, 5.12)\n",
        "    populacao = [Individual(chromosome_length, limites) for _ in range(population_size)]\n",
        "\n",
        "    for p in populacao:\n",
        "        p.fitness = [f1(p),f2(p)]\n",
        "\n",
        "    return populacao\n",
        "\n",
        "def crowding_distance_assignment(population):\n",
        "    # Zera as listas de soluções dominadas e contagens de dominação\n",
        "    for ind in population:\n",
        "        ind.dominated_solutions = []\n",
        "\n",
        "    # Calcula as soluções dominadas e atualiza a contagem de dominação para cada indivíduo\n",
        "    for i in range(len(population)):\n",
        "        for j in range(i + 1, len(population)):\n",
        "            if dominates(population[i].fitness, population[j].fitness):\n",
        "                population[j].dominated_solutions.append(i)\n",
        "                population[i].domination_count += 1\n",
        "            elif dominates(population[j].fitness, population[i].fitness):\n",
        "                population[i].dominated_solutions.append(j)\n",
        "                population[j].domination_count += 1\n",
        "\n",
        "    # Calcula a distância de multidão de cada indivíduo\n",
        "    for ind in population:\n",
        "        ind.crowding_distance = 0\n",
        "\n",
        "    num_objectives = len(population[0].fitness)\n",
        "    # Calcula a distância de multidão para cada objetivo\n",
        "    for m in range(num_objectives):\n",
        "        population.sort(key=lambda x: x.fitness[m])\n",
        "        population[0].crowding_distance = float('inf')\n",
        "        population[-1].crowding_distance = float('inf')\n",
        "        for i in range(1, len(population) - 1):\n",
        "            population[i].crowding_distance += (population[i + 1].fitness[m] - population[i - 1].fitness[m])\n",
        "\n",
        "def dominates(fitness1, fitness2):\n",
        "    # Verifica se fitness1 domina fitness2\n",
        "    return all(fitness1[i] <= fitness2[i] for i in range(len(fitness1))) and any(fitness1[i] < fitness2[i] for i in range(len(fitness1)))\n",
        "\n",
        "def nsga2(population, num_generations, tournament_size, crossover_rate, mutation_rate, limites):\n",
        "    # Executa o algoritmo NSGA-II para um número fixo de gerações\n",
        "    for _ in range(num_generations):\n",
        "        offspring = []\n",
        "        # Cria a nova população de descendentes\n",
        "        while len(offspring) < len(population):\n",
        "            parent1 = tournament_selection(population, tournament_size)\n",
        "            parent2 = tournament_selection(population, tournament_size)\n",
        "            child1, child2 = crossover(parent1, parent2, crossover_rate, limites)\n",
        "            offspring.extend(mutate(child1, mutation_rate, limites))\n",
        "            offspring.extend(mutate(child2, mutation_rate, limites))\n",
        "        population.extend(offspring)\n",
        "        crowding_distance_assignment(population)\n",
        "        population.sort(key=lambda x: (x.domination_count, -x.crowding_distance))\n",
        "        population = population[:len(population) // 2]  # Seleciona os melhores indivíduos\n",
        "\n",
        "def tournament_selection(population, size):\n",
        "    # Seleciona um indivíduo do torneio\n",
        "    tournament = random.sample(population, size)\n",
        "    tournament.sort(key=lambda x: (x.domination_count, -x.crowding_distance))\n",
        "    return tournament[0]\n",
        "\n",
        "def crossover(parent1, parent2, rate, limites):\n",
        "    # Executa o crossover entre dois pais com uma determinada taxa de crossover\n",
        "    if random.random() < rate:\n",
        "        point = random.randint(1, len(parent1.chromosome) - 1)\n",
        "        child1 = Individual(len(parent1.chromosome),limites)\n",
        "        child2 = Individual(len(parent2.chromosome),limites)\n",
        "        child1.chromosome = parent1.chromosome[:point] + parent2.chromosome[point:]\n",
        "        child2.chromosome = parent2.chromosome[:point] + parent1.chromosome[point:]\n",
        "        child1.fitness = [f1(child1),f2(child1)]\n",
        "        child2.fitness = [f1(child2),f2(child2)]\n",
        "        return child1, child2\n",
        "    else:\n",
        "        return parent1, parent2\n",
        "\n",
        "\n",
        "def mutate(individual, rate, limites):\n",
        "    # Realiza a mutação em um indivíduo com uma determinada taxa de mutação\n",
        "    mutated_individuals = []\n",
        "    for i in range(len(individual.chromosome)):\n",
        "        if random.random() < rate:\n",
        "            mutated_individual = Individual(len(individual.chromosome),limites)\n",
        "            mutated_individual.chromosome = individual.chromosome[:]\n",
        "            mutated_individual.chromosome[i] = random.random()\n",
        "            mutated_individual.fitness = [f1(mutated_individual),f2(mutated_individual)]\n",
        "            mutated_individuals.append(mutated_individual)\n",
        "    return mutated_individuals\n",
        "\n"
      ],
      "metadata": {
        "id": "6pxMh6cgyi6z"
      },
      "execution_count": 76,
      "outputs": []
    },
    {
      "cell_type": "code",
      "source": [
        "tamanho_cromossomos = 2\n",
        "\n",
        "for i in range(0, 10):\n",
        "\n",
        "    # Exemplo de uso\n",
        "    qtd_individuos = 200\n",
        "    tamanho_cromossomos = 2\n",
        "    num_generations = 55\n",
        "    tournament_size = 10\n",
        "    crossover_rate = 0.8\n",
        "    mutation_rate = 0.01\n",
        "    limites = (-5.12, 5.12)\n",
        "\n",
        "    populacao = gerar_populacao(qtd_individuos,tamanho_cromossomos,limites)\n",
        "\n",
        "    nsga2(populacao, num_generations, tournament_size, crossover_rate, mutation_rate,limites)\n",
        "\n",
        "    # Após a execução do NSGA-II, você pode acessar as soluções não dominadas da população\n",
        "    non_dominated_solutions = [ind for ind in populacao if ind.domination_count == 0]\n",
        "    #print(\"Número de soluções não dominadas:\", len(non_dominated_solutions))\n",
        "\n",
        "    print(f\"Solução {i} para {num_generations} gerações e n={tamanho_cromossomos}.\", f\"Pontos não dominados: {len(non_dominated_solutions)}\")\n",
        "\n",
        "    #plot_scatter_with_line(populacao)\n",
        "    plot_scatter_with_line_sea(populacao)"
      ],
      "metadata": {
        "colab": {
          "base_uri": "https://localhost:8080/"
        },
        "id": "tiNv5N1sywNO",
        "outputId": "27470bd4-3f2f-421b-988d-d6f3b51c9981"
      },
      "execution_count": 83,
      "outputs": [
        {
          "output_type": "stream",
          "name": "stdout",
          "text": [
            "Número de soluções não dominadas: 5\n"
          ]
        }
      ]
    },
    {
      "cell_type": "code",
      "source": [
        "plot_scatter_with_line_sea(populacao)\n"
      ],
      "metadata": {
        "colab": {
          "base_uri": "https://localhost:8080/",
          "height": 472
        },
        "id": "3oVO1J83z8oz",
        "outputId": "34fd0caa-6dc5-4e69-8f02-9b1aa0cd17be"
      },
      "execution_count": 84,
      "outputs": [
        {
          "output_type": "display_data",
          "data": {
            "text/plain": [
              "<Figure size 640x480 with 1 Axes>"
            ],
            "image/png": "[encoded data removed]"
          },
          "metadata": {}
        }
      ]
    }
  ]
}