{
  "nbformat": 4,
  "nbformat_minor": 0,
  "metadata": {
    "colab": {
      "provenance": [],
      "authorship_tag": "ABX9TyPvSQE+zJb0qrk4+iRM54YF",
      "include_colab_link": true
    },
    "kernelspec": {
      "name": "python3",
      "display_name": "Python 3"
    },
    "language_info": {
      "name": "python"
    }
  },
  "cells": [
    {
      "cell_type": "markdown",
      "metadata": {
        "id": "view-in-github",
        "colab_type": "text"
      },
      "source": [
        "<a href=\"https://colab.research.google.com/github/ecordeiro/cefet/blob/main/NSGA2.ipynb\" target=\"_parent\"><img src=\"https://colab.research.google.com/assets/colab-badge.svg\" alt=\"Open In Colab\"/></a>"
      ]
    },
    {
      "cell_type": "code",
      "execution_count": 19,
      "metadata": {
        "id": "4FWquMJyyaF8"
      },
      "outputs": [],
      "source": [
        "import random\n",
        "import numpy as np\n",
        "import pandas as pd\n",
        "import seaborn as sns\n",
        "import matplotlib.pyplot as plt\n",
        "import math\n",
        "\n",
        "import warnings\n",
        "warnings.filterwarnings('ignore')"
      ]
    },
    {
      "cell_type": "code",
      "source": [
        "from google.colab import drive\n",
        "drive.mount('/content/drive')"
      ],
      "metadata": {
        "colab": {
          "base_uri": "https://localhost:8080/"
        },
        "id": "B1wv_nAp4M-G",
        "outputId": "75923665-de9c-4732-e3bf-55616f36b901"
      },
      "execution_count": 20,
      "outputs": [
        {
          "output_type": "stream",
          "name": "stdout",
          "text": [
            "Drive already mounted at /content/drive; to attempt to forcibly remount, call drive.mount(\"/content/drive\", force_remount=True).\n"
          ]
        }
      ]
    },
    {
      "cell_type": "code",
      "source": [
        "def plot_scatter_with_line_sea(populacao, x_title='X', y_title='Y', title='Scatter Plot with Connected Points', num_fronteira=0,name_chart=''):\n",
        "    # Extract points from population\n",
        "\n",
        "    points = [(ind.fitness[0], ind.fitness[1]) for ind in populacao if ind.domination_count == num_fronteira]\n",
        "\n",
        "    # Unzip points into separate lists for x and y\n",
        "    x_values, y_values = zip(*points)\n",
        "\n",
        "    # Create scatter plot\n",
        "    sns.scatterplot(x=x_values, y=y_values, label=title)\n",
        "\n",
        "    # Create line plot\n",
        "    sns.lineplot(x=x_values, y=y_values, linewidth=2, label='')\n",
        "\n",
        "    # Add title and labels\n",
        "    #plt.title(title)\n",
        "    plt.xlabel(x_title)\n",
        "    plt.ylabel(y_title)\n",
        "\n",
        "    # Save the figure\n",
        "    plt.savefig(name_chart)\n",
        "    plt.close()\n",
        "\n",
        "# Example usage:\n",
        "# plot_scatter_with_line_sea(populacao)"
      ],
      "metadata": {
        "id": "5vHmhqaP5EyW"
      },
      "execution_count": 21,
      "outputs": []
    },
    {
      "cell_type": "code",
      "source": [
        "class Individual:\n",
        "\n",
        "    def __init__(self, chromosome_length, limites):\n",
        "        # Inicializa um indivíduo com um cromossomo aleatório\n",
        "        #self.fitness = None\n",
        "        self.dominated_solutions = []  # Soluções dominadas por este indivíduo\n",
        "        self.domination_count = 0  # Contagem de quantos indivíduos dominam este indivíduo\n",
        "        self.limite_inferior, self.limite_superior = limites\n",
        "        self.chromosome = [np.random.uniform(self.limite_inferior,self.limite_superior) for _ in range(chromosome_length)]\n",
        "        self.crowding_distance = 0\n",
        "        self.fitness = [self.f1(),self.f2()]\n",
        "        self.fronteira = None\n",
        "\n",
        "    def restricao_g(self, x):\n",
        "        b = (np.sin(2 * np.pi * x) + 0.5) <= 0\n",
        "        return 1 if b else 1000\n",
        "\n",
        "    def restricao_h(self, x):\n",
        "        b = (np.cos(2 * np.pi * x) + 0.5) == 0\n",
        "        return 1 if b else 1000\n",
        "\n",
        "    def f1(self):\n",
        "        penalidade = 1\n",
        "        n = len(self.chromosome)\n",
        "\n",
        "        penalidade = penalidade * math.prod([self.restricao_g(x) for x in self.chromosome])\n",
        "        penalidade = penalidade * math.prod([self.restricao_h(x) for x in self.chromosome])\n",
        "\n",
        "        valor = sum([(elemento**2 - 4) - 10 * np.cos(2 * np.pi * (elemento**2 - 4)) for elemento in self.chromosome])\n",
        "        return (10 * n + valor) * penalidade\n",
        "\n",
        "    def f2(self):\n",
        "        penalidade = 1\n",
        "        n = len(self.chromosome)\n",
        "\n",
        "        penalidade = penalidade * math.prod([self.restricao_g(x) for x in self.chromosome])\n",
        "        penalidade = penalidade * math.prod([self.restricao_h(x) for x in self.chromosome])\n",
        "\n",
        "        valor = sum([(elemento**2 - 10 * np.cos(2 * np.pi * elemento)) for elemento in self.chromosome])\n",
        "\n",
        "        return (10 * n + valor) * penalidade\n",
        "\n"
      ],
      "metadata": {
        "id": "bH0TyY4vyfbG"
      },
      "execution_count": 22,
      "outputs": []
    },
    {
      "cell_type": "code",
      "source": [
        "def gerar_populacao(population_size,chromosome_length,limites):\n",
        "    # population_size = 50\n",
        "    # chromosome_length = 2\n",
        "    # limites = (-5.12, 5.12)\n",
        "    populacao = [Individual(chromosome_length, limites) for _ in range(population_size)]\n",
        "\n",
        "    # for p in populacao:\n",
        "    #     p.fitness = [f1(p),f2(p)]\n",
        "\n",
        "    return populacao\n",
        "\n",
        "def crowding_distance_assignment(population):\n",
        "    # Zera as listas de soluções dominadas e contagens de dominação\n",
        "    for ind in population:\n",
        "        ind.dominated_solutions = []\n",
        "        ind.domination_count = 0\n",
        "\n",
        "    # Calcula as soluções dominadas e atualiza a contagem de dominação para cada indivíduo\n",
        "    for i in range(len(population)):\n",
        "        for j in range(i + 1, len(population)):\n",
        "            if dominates(population[i].fitness, population[j].fitness):\n",
        "                population[j].dominated_solutions.append(i)\n",
        "                population[i].domination_count += 1\n",
        "            elif dominates(population[j].fitness, population[i].fitness):\n",
        "                population[i].dominated_solutions.append(j)\n",
        "                population[j].domination_count += 1\n",
        "\n",
        "    # Calcula a distância de multidão de cada indivíduo\n",
        "    for ind in population:\n",
        "        ind.crowding_distance = 0\n",
        "\n",
        "    num_objectives = len(population[0].fitness)\n",
        "    # Calcula a distância de multidão para cada objetivo\n",
        "    for m in range(num_objectives):\n",
        "        population.sort(key=lambda x: x.fitness[m])\n",
        "        population[0].crowding_distance = float('inf')\n",
        "        population[-1].crowding_distance = float('inf')\n",
        "        for i in range(1, len(population) - 1):\n",
        "            population[i].crowding_distance += (population[i + 1].fitness[m] - population[i - 1].fitness[m])\n",
        "\n",
        "def dominates(fitness1, fitness2):\n",
        "    # Verifica se fitness1 domina fitness2\n",
        "    return all(fitness1[i] <= fitness2[i] for i in range(len(fitness1))) and any(fitness1[i] < fitness2[i] for i in range(len(fitness1)))\n",
        "\n",
        "def nsga2(population, num_generations, tournament_size, crossover_rate, mutation_rate, limites, tamanho_populacao_original):\n",
        "    # Executa o algoritmo NSGA-II para um número fixo de gerações\n",
        "    for _ in range(num_generations):\n",
        "        offspring = []\n",
        "        # Cria a nova população de descendentes\n",
        "        while len(offspring) <= len(population)/4:\n",
        "            parent1 = tournament_selection(population, tournament_size)\n",
        "            parent2 = tournament_selection(population, tournament_size)\n",
        "            child1, child2 = crossover(parent1, parent2, crossover_rate, limites)\n",
        "            offspring.extend(mutate(child1, mutation_rate, limites))\n",
        "            offspring.extend(mutate(child2, mutation_rate, limites))\n",
        "        #Adiciona a nova base na população\n",
        "        population.extend(offspring)\n",
        "        crowding_distance_assignment(population)\n",
        "        population.sort(key=lambda x: (x.domination_count, -x.crowding_distance))\n",
        "        population = population[:tamanho_populacao_original]  # Seleciona os melhores indivíduos\n",
        "\n",
        "    return population\n",
        "\n",
        "\n",
        "\n",
        "def tournament_selection(population, size):\n",
        "    # Seleciona um indivíduo do torneio\n",
        "    tournament = random.sample(population, size)\n",
        "    tournament.sort(key=lambda x: (x.domination_count, -x.crowding_distance))\n",
        "    return tournament[0]\n",
        "\n",
        "def crossover(parent1, parent2, rate, limites):\n",
        "    # Executa o crossover entre dois pais com uma determinada taxa de crossover\n",
        "    if random.random() < rate:\n",
        "        point = random.randint(1, len(parent1.chromosome)-1)\n",
        "        child1 = Individual(len(parent1.chromosome),limites)\n",
        "        child2 = Individual(len(parent2.chromosome),limites)\n",
        "        child1.chromosome = parent1.chromosome[:point] + parent2.chromosome[point:]\n",
        "        child2.chromosome = parent2.chromosome[:point] + parent1.chromosome[point:]\n",
        "        return child1, child2\n",
        "    else:\n",
        "        return parent1, parent2\n",
        "\n",
        "\n",
        "def mutate(individual, rate, limites):\n",
        "    # Realiza a mutação em um indivíduo com uma determinada taxa de mutação\n",
        "    mutated_individuals = []\n",
        "    limite_inferior, limite_superior = limites\n",
        "    for i in range(len(individual.chromosome)):\n",
        "        if random.random() < rate:\n",
        "            mutated_individual = Individual(len(individual.chromosome),limites)\n",
        "            mutated_individual.chromosome = individual.chromosome[:]\n",
        "            mutated_individual.chromosome[i] = random.random()\n",
        "            mutated_individuals.append(mutated_individual)\n",
        "    return mutated_individuals\n",
        "\n"
      ],
      "metadata": {
        "id": "6pxMh6cgyi6z"
      },
      "execution_count": 23,
      "outputs": []
    },
    {
      "cell_type": "code",
      "source": [
        "tamanho_cromossomos = 2\n",
        "\n",
        "df_full = pd.DataFrame()\n",
        "\n",
        "for i in range(0, 12):\n",
        "\n",
        "    # Exemplo de uso\n",
        "    qtd_individuos = 200\n",
        "    num_generations = 1000\n",
        "    tournament_size = 3\n",
        "    crossover_rate = 0.8\n",
        "    mutation_rate = 0.01\n",
        "    limites = (-5.12, 5.12)\n",
        "\n",
        "    populacao = gerar_populacao(qtd_individuos,tamanho_cromossomos,limites)\n",
        "\n",
        "    #print(len(populacao))\n",
        "\n",
        "    populacao = nsga2(populacao, num_generations, tournament_size, crossover_rate, mutation_rate,limites,len(populacao))\n",
        "\n",
        "    # Após a execução do NSGA-II, você pode acessar as soluções não dominadas da população\n",
        "    non_dominated_solutions = [ind for ind in populacao if ind.domination_count == 0]\n",
        "\n",
        "    points = [(ind.fitness[0], ind.fitness[1]) for ind in populacao if ind.domination_count == 0]\n",
        "\n",
        "    print(f\"Solução {i} para {num_generations} gerações e n={tamanho_cromossomos}.\", f\"Pontos não dominados: {len(non_dominated_solutions)}\")\n",
        "\n",
        "    if len(non_dominated_solutions) > 0:\n",
        "        #plot_scatter_with_line(populacao)\n",
        "        # plot_scatter_with_line_sea(populacao,title='Fronteira 0',num_fronteira=0)\n",
        "        # plot_scatter_with_line_sea(populacao,title='Fronteira 1',num_fronteira=1)\n",
        "        # plot_scatter_with_line_sea(populacao,title='Fronteira 2',num_fronteira=2)\n",
        "\n",
        "        # Finally, show the plot\n",
        "        # plt.figure(figsize=(6, 4))\n",
        "        # plt.show()\n",
        "        df = pd.DataFrame({'Listas': f'Lista_{i}',f'Pontos': points})\n",
        "        df_full = pd.concat([df_full,df])\n",
        "        nome_chart = f'/content/drive/MyDrive/Cefet/nsga2/graficos/n{tamanho_cromossomos}/chart_n{tamanho_cromossomos}_numero_{i}.png'\n",
        "        plot_scatter_with_line_sea(populacao,title='Fronteira 0',num_fronteira=0,name_chart=nome_chart)\n",
        "\n"
      ],
      "metadata": {
        "id": "MicJZULv6fcU",
        "colab": {
          "base_uri": "https://localhost:8080/"
        },
        "outputId": "a9097215-4e33-4c69-aed5-b5bd03fc257f"
      },
      "execution_count": 24,
      "outputs": [
        {
          "output_type": "stream",
          "name": "stdout",
          "text": [
            "Solução 0 para 1000 gerações e n=2. Pontos não dominados: 14\n",
            "Solução 1 para 1000 gerações e n=2. Pontos não dominados: 9\n",
            "Solução 2 para 1000 gerações e n=2. Pontos não dominados: 9\n",
            "Solução 3 para 1000 gerações e n=2. Pontos não dominados: 10\n",
            "Solução 4 para 1000 gerações e n=2. Pontos não dominados: 13\n",
            "Solução 5 para 1000 gerações e n=2. Pontos não dominados: 9\n",
            "Solução 6 para 1000 gerações e n=2. Pontos não dominados: 10\n",
            "Solução 7 para 1000 gerações e n=2. Pontos não dominados: 13\n",
            "Solução 8 para 1000 gerações e n=2. Pontos não dominados: 11\n",
            "Solução 9 para 1000 gerações e n=2. Pontos não dominados: 9\n",
            "Solução 10 para 1000 gerações e n=2. Pontos não dominados: 11\n",
            "Solução 11 para 1000 gerações e n=2. Pontos não dominados: 7\n"
          ]
        }
      ]
    },
    {
      "cell_type": "code",
      "source": [
        "df_full.to_csv(f'/content/drive/MyDrive/Cefet/nsga2/listas_nsga2_n{tamanho_cromossomos}.csv', index=False)"
      ],
      "metadata": {
        "id": "L-CFQJoE3xiS"
      },
      "execution_count": 25,
      "outputs": []
    }
  ]
}