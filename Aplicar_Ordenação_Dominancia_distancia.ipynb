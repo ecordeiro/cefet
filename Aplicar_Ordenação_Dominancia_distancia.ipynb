{
  "nbformat": 4,
  "nbformat_minor": 0,
  "metadata": {
    "colab": {
      "provenance": [],
      "authorship_tag": "ABX9TyN5x0UfORPlmFfByl0pnxaN",
      "include_colab_link": true
    },
    "kernelspec": {
      "name": "python3",
      "display_name": "Python 3"
    },
    "language_info": {
      "name": "python"
    }
  },
  "cells": [
    {
      "cell_type": "markdown",
      "metadata": {
        "id": "view-in-github",
        "colab_type": "text"
      },
      "source": [
        "<a href=\"https://colab.research.google.com/github/ecordeiro/cefet/blob/main/Aplicar_Ordena%C3%A7%C3%A3o_Dominancia_distancia.ipynb\" target=\"_parent\"><img src=\"https://colab.research.google.com/assets/colab-badge.svg\" alt=\"Open In Colab\"/></a>"
      ]
    },
    {
      "cell_type": "code",
      "source": [
        "import numpy as np\n",
        "import random\n",
        "import pandas as pd\n",
        "import seaborn as sns\n",
        "import matplotlib.pyplot as plt\n",
        "import math\n",
        "\n",
        "import warnings\n",
        "warnings.filterwarnings('ignore')"
      ],
      "metadata": {
        "id": "HXS2t1jqwH0Q"
      },
      "execution_count": 50,
      "outputs": []
    },
    {
      "cell_type": "code",
      "execution_count": 51,
      "metadata": {
        "colab": {
          "base_uri": "https://localhost:8080/"
        },
        "id": "2zjFMb7VkMok",
        "outputId": "cfa94945-2d5e-4913-e0c0-49e74a5632c1"
      },
      "outputs": [
        {
          "output_type": "stream",
          "name": "stdout",
          "text": [
            "Drive already mounted at /content/drive; to attempt to forcibly remount, call drive.mount(\"/content/drive\", force_remount=True).\n"
          ]
        }
      ],
      "source": [
        "from google.colab import drive\n",
        "drive.mount('/content/drive')"
      ]
    },
    {
      "cell_type": "code",
      "source": [
        "def plot_scatter_with_line_sea(populacao, x_title='X', y_title='Y', title='Scatter Plot with Connected Points', num_fronteira=0,name_chart=''):\n",
        "    # Extract points from population\n",
        "\n",
        "    points = [(ind.fitness[0], ind.fitness[1]) for ind in populacao if ind.domination_count == num_fronteira]\n",
        "\n",
        "    if len(points)>0:\n",
        "\n",
        "        # Unzip points into separate lists for x and y\n",
        "        x_values, y_values = zip(*points)\n",
        "\n",
        "        # Create scatter plot\n",
        "        sns.scatterplot(x=x_values, y=y_values, label=title)\n",
        "\n",
        "        # Create line plot\n",
        "        sns.lineplot(x=x_values, y=y_values, linewidth=2, label='')\n",
        "\n",
        "        # Add title and labels\n",
        "        #plt.title(title)\n",
        "        plt.xlabel(x_title)\n",
        "        plt.ylabel(y_title)\n",
        "\n",
        "        # Save the figure\n",
        "        #plt.savefig(name_chart)\n",
        "        #plt.close()\n",
        "\n",
        "    # Display the plot\n",
        "    plt.show()\n",
        "\n",
        "# Example usage:\n",
        "# plot_scatter_with_line_sea(populacao)"
      ],
      "metadata": {
        "id": "Tnj0-JR1wZJ5"
      },
      "execution_count": 53,
      "outputs": []
    },
    {
      "cell_type": "code",
      "source": [
        "class Individual:\n",
        "\n",
        "    def __init__(self, fit):\n",
        "        # Inicializa um indivíduo com um cromossomo aleatório\n",
        "        #self.fitness = None\n",
        "        self.dominated_solutions = []  # Soluções dominadas por este indivíduo\n",
        "        self.domination_count = 0  # Contagem de quantos indivíduos dominam este indivíduo\n",
        "        self.fitness = eval(fit)\n",
        "        self.crowding_distance = 0"
      ],
      "metadata": {
        "id": "jUyPM2l-kpg6"
      },
      "execution_count": 54,
      "outputs": []
    },
    {
      "cell_type": "code",
      "source": [
        "def dominancia(fitness1, fitness2):\n",
        "    # Verifica se fitness1 domina fitness2\n",
        "    return all(fitness1[i] <= fitness2[i] for i in range(len(fitness1))) and any(fitness1[i] < fitness2[i] for i in range(len(fitness1)))\n",
        "\n",
        "def calcula_domininancia_populacao(p):\n",
        "    # Zera as listas de soluções dominadas e contagens de dominação\n",
        "    for ind in p:\n",
        "        ind.dominated_solutions = []\n",
        "\n",
        "    # Calcula as soluções dominadas e atualiza a contagem de dominação para cada indivíduo\n",
        "    for i in range(len(p)):\n",
        "        for j in range(i + 1, len(p)):\n",
        "            if dominancia(p[i].fitness, p[j].fitness):\n",
        "                p[j].dominated_solutions.append(i)\n",
        "                p[i].domination_count += 1\n",
        "            elif dominancia(p[j].fitness, p[i].fitness):\n",
        "                p[i].dominated_solutions.append(j)\n",
        "                p[j].domination_count += 1\n",
        "    return p\n",
        "\n",
        "def calcula_crowding_distance(p):\n",
        "    # Calcula a distância de multidão de cada indivíduo\n",
        "    for ind in p:\n",
        "        ind.crowding_distance = 0\n",
        "\n",
        "    num_objectives = len(p[0].fitness)\n",
        "    # Calcula a distância de multidão para cada objetivo\n",
        "    for m in range(num_objectives):\n",
        "        p.sort(key=lambda x: x.fitness[m])\n",
        "        p[0].crowding_distance = float('inf')\n",
        "        p[-1].crowding_distance = float('inf')\n",
        "        for i in range(1, len(p) - 1):\n",
        "            p[i].crowding_distance += (p[i + 1].fitness[m] - p[i - 1].fitness[m])\n",
        "    return p\n",
        "\n"
      ],
      "metadata": {
        "id": "YDlOg0RRkZH_"
      },
      "execution_count": 55,
      "outputs": []
    },
    {
      "cell_type": "code",
      "source": [
        "#df = pd.read_csv(f'/content/drive/MyDrive/Cefet/busca_aleatoria/listas_busca_aleatoria_n10.csv')\n",
        "df = pd.read_csv(f'/content/drive/MyDrive/Cefet/nsga2/listas_nsga2_n2.csv')"
      ],
      "metadata": {
        "id": "DCEEfEnblANd"
      },
      "execution_count": 66,
      "outputs": []
    },
    {
      "cell_type": "code",
      "source": [
        "populacao = []\n",
        "# Iterando sobre as linhas\n",
        "for index, row in df.iterrows():\n",
        "    populacao.append(Individual(row['Pontos']))\n"
      ],
      "metadata": {
        "id": "LrNhsx95lWJ-"
      },
      "execution_count": 67,
      "outputs": []
    },
    {
      "cell_type": "code",
      "source": [
        "populacao_total = calcula_domininancia_populacao(populacao)\n",
        "populacao_total = calcula_crowding_distance(populacao_total)\n",
        "populacao_total.sort(key=lambda x: (x.domination_count, -x.crowding_distance))"
      ],
      "metadata": {
        "id": "TRCAiWdIt4hp"
      },
      "execution_count": 68,
      "outputs": []
    },
    {
      "cell_type": "code",
      "source": [
        "non_dominated_solutions = [ind for ind in populacao_total if ind.domination_count == 0]"
      ],
      "metadata": {
        "id": "dYr-ozZ7vmpu"
      },
      "execution_count": 69,
      "outputs": []
    },
    {
      "cell_type": "code",
      "source": [
        "plot_scatter_with_line_sea(populacao_total)"
      ],
      "metadata": {
        "colab": {
          "base_uri": "https://localhost:8080/",
          "height": 449
        },
        "id": "pLRn1IzcwC3Q",
        "outputId": "88b9b89c-d855-4946-8701-3743d66a89c0"
      },
      "execution_count": 70,
      "outputs": [
        {
          "output_type": "display_data",
          "data": {
            "text/plain": [
              "<Figure size 640x480 with 1 Axes>"
            ],
            "image/png": "[encoded data removed]"
          },
          "metadata": {}
        }
      ]
    }
  ]
}